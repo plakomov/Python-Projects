{
 "cells": [
  {
   "cell_type": "code",
   "execution_count": 20,
   "id": "e9d4bc16",
   "metadata": {},
   "outputs": [],
   "source": [
    "# Problem Description: A set of n dice is thrown. All those that land on six are put aside, and the others\n",
    "#are again thrown. This is repeated until all the dice have landed on six. Let N\n",
    "#denote the number of throws needed. (For instance, suppose that n = 3 and that\n",
    "# on the initial throw exactly two of the dice land on six, then N=2)Let m_n = E[N]\n",
    "\n",
    "# a) Derive a recursive formula for mn and use it to calculate mi, i = 2, 3, 4\n",
    "#    and to show that m5 ≈ 13.024.\n",
    "\n",
    "# For a) I already have a a recursive formula; I just need to implement it \n",
    "\n",
    "from scipy.special import binom\n",
    "import numpy as np"
   ]
  },
  {
   "cell_type": "code",
   "execution_count": 45,
   "id": "387c205e",
   "metadata": {},
   "outputs": [
    {
     "data": {
      "text/plain": [
       "13.109523796730159"
      ]
     },
     "execution_count": 45,
     "metadata": {},
     "output_type": "execute_result"
    }
   ],
   "source": [
    "# Calculate the expected value based on the formula\n",
    "\n",
    "def exp_val(N):\n",
    "    mn_dict = {0: 1, 1:6} # Intialized conditions\n",
    "    \n",
    "\n",
    "    \n",
    "    def recursive(n):\n",
    "        if n in mn_dict:\n",
    "            return mn_dict[n]\n",
    "        else:\n",
    "            div = 1 - (5/6)**n\n",
    "            v_1 = np.array([1 + recursive(n-i) for i in range(1, n+1)])\n",
    "            v_2 = np.array([binom(n, i) * ((1/6)**i) * ((5/6)**(n-i)) for i in range(1, n+1)])\n",
    "            ans = (sum(v_1 *v_2) + (5/6)**n) / div \n",
    "            mn_dict[n] = ans\n",
    "            return ans\n",
    "    \n",
    "    recursive(N)\n",
    "    \n",
    "    return mn_dict[N]\n",
    "\n",
    "exp_val(5)"
   ]
  },
  {
   "cell_type": "code",
   "execution_count": 32,
   "id": "3ab31cb8",
   "metadata": {},
   "outputs": [
    {
     "name": "stdout",
     "output_type": "stream",
     "text": [
      "[1]\n",
      "1.0000000000000002\n"
     ]
    }
   ],
   "source": []
  },
  {
   "cell_type": "code",
   "execution_count": null,
   "id": "1da95d68",
   "metadata": {},
   "outputs": [],
   "source": []
  }
 ],
 "metadata": {
  "kernelspec": {
   "display_name": "Python 3",
   "language": "python",
   "name": "python3"
  },
  "language_info": {
   "codemirror_mode": {
    "name": "ipython",
    "version": 3
   },
   "file_extension": ".py",
   "mimetype": "text/x-python",
   "name": "python",
   "nbconvert_exporter": "python",
   "pygments_lexer": "ipython3",
   "version": "3.6.4"
  }
 },
 "nbformat": 4,
 "nbformat_minor": 5
}

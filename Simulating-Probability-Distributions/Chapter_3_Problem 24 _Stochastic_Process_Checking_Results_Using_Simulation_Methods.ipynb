{
 "cells": [
  {
   "cell_type": "code",
   "execution_count": 1,
   "id": "93def8ee",
   "metadata": {},
   "outputs": [
    {
     "data": {
      "text/plain": [
       "array([1.])"
      ]
     },
     "execution_count": 1,
     "metadata": {},
     "output_type": "execute_result"
    }
   ],
   "source": [
    "# Description: We are going to double check if my formula derivations\n",
    "# of expectations are correct by comparing them to Monte Carlo Simulations\n",
    "# of the problems\n",
    "\n",
    "# Problem Description: A coin having probability p of landing heads, is \n",
    "# continually flipped until at least one head and one tail have been flipped\n",
    "\n",
    "# a) Find the expected # of flips needs\n",
    "# b) Find the expected # of flips that land on heads \n",
    "# c) Find the expected # of flips that land on tails\n",
    "# d) Repeat a) in the case where flipping is continued until a total of\n",
    "# at least two heads and one tail have been flipped\n",
    "\n",
    "# Need to double check against my answers\n",
    "# a) 1 + (p^2 +q^2) / p*q, q = 1-p\n",
    "# b) (p + q^2)/q\n",
    "# c) (p^2 +q)/p\n",
    "# d) (2 + (p^2 +q^2)/pq)*p + (1+2/p)*q\n",
    "\n",
    "\n",
    "# Import Dependencies\n",
    "\n",
    "import numpy as np\n",
    "import matplotlib.pyplot as plt\n",
    "\n",
    "np.append(np.array([]), 1)"
   ]
  },
  {
   "cell_type": "code",
   "execution_count": 25,
   "id": "295c91ad",
   "metadata": {},
   "outputs": [
    {
     "data": {
      "text/plain": [
       "1"
      ]
     },
     "execution_count": 25,
     "metadata": {},
     "output_type": "execute_result"
    }
   ],
   "source": [
    "# Task 1: We need to generate the data through a simulation\n",
    "\n",
    "# Set the probabilities; One restriction, all the probabilities should\n",
    "# be rational numbers (due to discrete-sampling algorithm I have created)\n",
    "\n",
    "# Numerator:   a \n",
    "# Denominator:  b \n",
    "# Restriction: a <= b\n",
    "\n",
    "a = 389\n",
    "b = 1000\n",
    "\n",
    "p = a/b  # the probability of flipping the heads \n",
    "q = (b-a)/b # probability of flipping \n",
    "\n",
    "def gen_outcome(a,b):\n",
    "    freq = np.array(a*[0] + (b-a)*[1])\n",
    "    np.random.shuffle(freq)\n",
    "    return np.random.choice(freq)\n",
    "    \n",
    "# Testing the gen_outcome\n",
    "gen_outcome(a, b)"
   ]
  },
  {
   "cell_type": "code",
   "execution_count": 26,
   "id": "526228b9",
   "metadata": {},
   "outputs": [],
   "source": [
    "# We figured how to generate outcomes with rational probabilities\n",
    "# Now we need to collect the data\n",
    "n_epochs = 10000 # number of generated data\n",
    "\n",
    "# Integer, Integer, Int --> (ArrayOfInt, ArrayOfInt, ArrayOfInt)\n",
    "# t: the least number of tails; h: the least number of heads\n",
    "    \n",
    "def gen_simulation(h, t):\n",
    "    curr_st, heads, tails, outcome = 0, 0, 0, []\n",
    "    while heads < h or tails < t:\n",
    "        curr_st +=1\n",
    "        out = gen_outcome(a,b)\n",
    "        outcome.append(out)\n",
    "        if out == 0: heads += 1\n",
    "        else: tails += 1\n",
    "    return curr_st, heads, tails"
   ]
  },
  {
   "cell_type": "code",
   "execution_count": 4,
   "id": "b5be2c2d",
   "metadata": {},
   "outputs": [
    {
     "data": {
      "text/plain": [
       "(5, 2, 3)"
      ]
     },
     "execution_count": 4,
     "metadata": {},
     "output_type": "execute_result"
    }
   ],
   "source": [
    "# Try the simulator\n",
    "gen_simulation(2,1)"
   ]
  },
  {
   "cell_type": "code",
   "execution_count": 15,
   "id": "dbe1a74f",
   "metadata": {},
   "outputs": [],
   "source": [
    "# Now we are going to generate the data based n_epochs\n",
    "outcomes, heads, tails = np.array([]),np.array([]),np.array([]) \n",
    "for i in range(n_epochs):\n",
    "    curr_st, h, t = gen_simulation(1,1)\n",
    "    outcomes = np.append(outcomes, curr_st)\n",
    "    heads = np.append(heads, h)\n",
    "    tails = np.append(tails, t)\n",
    "\n",
    "out_mean, h_mean, t_mean = np.mean(outcomes), np.mean(heads), np.mean(tails)"
   ]
  },
  {
   "cell_type": "code",
   "execution_count": 16,
   "id": "9479e4dd",
   "metadata": {},
   "outputs": [
    {
     "name": "stdout",
     "output_type": "stream",
     "text": [
      "OSDM: 3.4654; OFDM: 3.45632798573975\n",
      "HSDM: 1.1719; HFDM: 1.1751515151515153\n",
      "TSDM: 2.2935; TFDM: 2.2811764705882354\n"
     ]
    }
   ],
   "source": [
    "# Now, we are going to compare the expected values derived from the \n",
    "# formulas to means from the simulations; Only for h=1 and t=1\n",
    "\n",
    "form_mean_out = 1 + (p**2 + q**2)/(p*q)\n",
    "form_head_mean = (p + q**2)/q\n",
    "form_tail_mean = (p**2 + q)/p\n",
    "\n",
    "print(\"OSDM: \" + str(out_mean) + \"; OFDM: \" + str(form_mean_out))\n",
    "print(\"HSDM: \" + str(h_mean) + \"; HFDM: \" + str(form_head_mean))\n",
    "print(\"TSDM: \" + str(t_mean) + \"; TFDM: \" + str(form_tail_mean))"
   ]
  },
  {
   "cell_type": "code",
   "execution_count": 27,
   "id": "8ee6cccf",
   "metadata": {},
   "outputs": [],
   "source": [
    "# Now we are going to test out the expecation formula for  h=2 and t=1\n",
    "outcomes_2, heads_2, tails_2 = np.array([]),np.array([]),np.array([]) \n",
    "for i in range(n_epochs):\n",
    "    curr_st, h, t = gen_simulation(2,1)\n",
    "    outcomes_2 = np.append(outcomes_2, curr_st)\n",
    "    heads_2 = np.append(heads_2, h)\n",
    "    tails_2 = np.append(tails_2, t)\n",
    "out_mean_2 = np.mean(outcomes_2)"
   ]
  },
  {
   "cell_type": "code",
   "execution_count": 28,
   "id": "e45e4272",
   "metadata": {},
   "outputs": [
    {
     "name": "stdout",
     "output_type": "stream",
     "text": [
      "OSDM (h=2, t=1): 5.4056; OFDM (h=2, t=1): 5.389049385936494\n"
     ]
    }
   ],
   "source": [
    "# Check the formula to the outcome in the simulation\n",
    "out_mean_form_2 = (2 + (p**2 + q**2)/(p*q))*p + (1 + 2/p)*q\n",
    "print(\"OSDM (h=2, t=1): \" +  str(out_mean_2) + \"; OFDM (h=2, t=1): \" + str(out_mean_form_2))"
   ]
  },
  {
   "cell_type": "code",
   "execution_count": 29,
   "id": "3e5fd58c",
   "metadata": {},
   "outputs": [
    {
     "name": "stdout",
     "output_type": "stream",
     "text": [
      "2.0943\n",
      "3.3113\n"
     ]
    }
   ],
   "source": [
    "# The formulas! Word \n",
    "print(np.mean(heads_2))\n",
    "print(np.mean(tails_2))"
   ]
  },
  {
   "cell_type": "code",
   "execution_count": null,
   "id": "c1c47ea1",
   "metadata": {},
   "outputs": [],
   "source": []
  }
 ],
 "metadata": {
  "kernelspec": {
   "display_name": "Python 3",
   "language": "python",
   "name": "python3"
  },
  "language_info": {
   "codemirror_mode": {
    "name": "ipython",
    "version": 3
   },
   "file_extension": ".py",
   "mimetype": "text/x-python",
   "name": "python",
   "nbconvert_exporter": "python",
   "pygments_lexer": "ipython3",
   "version": "3.6.4"
  }
 },
 "nbformat": 4,
 "nbformat_minor": 5
}

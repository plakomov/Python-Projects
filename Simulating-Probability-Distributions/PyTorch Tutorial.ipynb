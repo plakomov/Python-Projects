{
 "cells": [
  {
   "cell_type": "code",
   "execution_count": 1,
   "metadata": {},
   "outputs": [],
   "source": [
    "# Description: PyTorch Introduction Tutorial"
   ]
  },
  {
   "cell_type": "code",
   "execution_count": 2,
   "metadata": {},
   "outputs": [],
   "source": [
    "# Simple Linear Regression Model\n",
    "import numpy as np\n",
    "import matplotlib.pyplot as plt"
   ]
  },
  {
   "cell_type": "code",
   "execution_count": 3,
   "metadata": {},
   "outputs": [],
   "source": [
    "# Generate Data and Split the data into test data and validation data\n",
    "# Data Generation\n",
    "np.random.seed(42)\n",
    "x = np.random.rand(100, 1)\n",
    "y = 1 + 2*x + np.random.rand(100,1)\n",
    "\n",
    "# Shuffle the indices\n",
    "idx = np.arange(100)\n",
    "np.random.shuffle(idx)\n",
    "\n",
    "# Use the first 80 data points as test data\n",
    "idx_train = idx[:80]\n",
    "# Use the remaining 20 data points as validation data\n",
    "idx_val = idx[80:]\n",
    "\n",
    "# Split the data\n",
    "# Train\n",
    "x_train, y_train = x[idx_train], y[idx_train]\n",
    "# Validation\n",
    "x_test, y_test = x[idx_val], y[idx_val]\n"
   ]
  },
  {
   "cell_type": "code",
   "execution_count": 4,
   "metadata": {},
   "outputs": [
    {
     "data": {
      "text/plain": [
       "<matplotlib.collections.PathCollection at 0x1f0f11320c8>"
      ]
     },
     "execution_count": 4,
     "metadata": {},
     "output_type": "execute_result"
    },
    {
     "data": {
      "image/png": "[encoded data removed]",
      "text/plain": [
       "<Figure size 360x360 with 1 Axes>"
      ]
     },
     "metadata": {
      "needs_background": "light"
     },
     "output_type": "display_data"
    }
   ],
   "source": [
    "# Let's plot the data\n",
    "plt.figure(figsize = (5, 5))\n",
    "plt.scatter(x_train, y_train, label = \"Test Data: Linear Regression\")"
   ]
  },
  {
   "cell_type": "code",
   "execution_count": 5,
   "metadata": {},
   "outputs": [
    {
     "name": "stdout",
     "output_type": "stream",
     "text": [
      "[1.53033554] [1.95814388]\n",
      "[1.5303354] [1.95814415]\n"
     ]
    }
   ],
   "source": [
    "# We are going to train our model and use MSE as the loss function\n",
    "\n",
    "# Intialize the parameters and the hyperparamters\n",
    "np.random.seed(42)\n",
    "a = np.random.rand(1)\n",
    "b = np.random.rand(1)\n",
    "\n",
    "# Learning rate\n",
    "lr = 1e-1\n",
    "# Number of Epochs\n",
    "n_epochs = 1000\n",
    "\n",
    "# We are going to loop for the number of epochs\n",
    "\n",
    "for epoch in range(n_epochs):\n",
    "    # Predicions\n",
    "    y_hat = a + b * x_train\n",
    "    \n",
    "    \n",
    "    # Compute the Error\n",
    "    error  = (y_train - y_hat)\n",
    "    # Computer the MSE\n",
    "    MSE = (error**2).mean()\n",
    "    \n",
    "    # Compute the Gradient Descent\n",
    "    \n",
    "    part_a = -2* error.mean() \n",
    "    part_b = -2* (x_train * error).mean()\n",
    "    \n",
    "    # Update the Parameters\n",
    "    \n",
    "    a = a - lr*part_a\n",
    "    b = b - lr*part_b\n",
    "    \n",
    "print(a,b)\n",
    "\n",
    "# Sanity Check of our code above\n",
    "from sklearn.linear_model import LinearRegression\n",
    "lin_model = LinearRegression()\n",
    "lin_model.fit(x_train, y_train)\n",
    "print(lin_model.intercept_, lin_model.coef_[0])"
   ]
  },
  {
   "cell_type": "code",
   "execution_count": 6,
   "metadata": {},
   "outputs": [
    {
     "name": "stderr",
     "output_type": "stream",
     "text": [
      "C:\\Users\\Pavlo Lakomov\\Anaconda3\\lib\\site-packages\\torch\\cuda\\__init__.py:52: UserWarning: CUDA initialization: Found no NVIDIA driver on your system. Please check that you have an NVIDIA GPU and installed a driver from http://www.nvidia.com/Download/index.aspx (Triggered internally at  ..\\c10\\cuda\\CUDAFunctions.cpp:100.)\n",
      "  return torch._C._cuda_getDeviceCount() > 0\n"
     ]
    },
    {
     "name": "stdout",
     "output_type": "stream",
     "text": [
      "<class 'numpy.ndarray'> <class 'torch.Tensor'> torch.FloatTensor\n"
     ]
    }
   ],
   "source": [
    "# PyTorch Time\n",
    "import torch\n",
    "import torch.optim as optim\n",
    "import torch.nn as nn\n",
    "\n",
    "# See if cuda is available\n",
    "\n",
    "device = \"cuda\" if torch.cuda.is_available() else \"cpu\"\n",
    "\n",
    "# Now we need to transform Numpy Array into tensors and send them to a chose device\n",
    "\n",
    "x_train_tensor = torch.from_numpy(x_train).float().to(device)\n",
    "y_train_tensor = torch.from_numpy(y_train).float().to(device)\n",
    "print(type(x_train), type(x_train_tensor), x_train_tensor.type())"
   ]
  },
  {
   "cell_type": "code",
   "execution_count": 7,
   "metadata": {},
   "outputs": [
    {
     "name": "stdout",
     "output_type": "stream",
     "text": [
      "tensor([0.6910], requires_grad=True) tensor([0.5313], requires_grad=True)\n"
     ]
    }
   ],
   "source": [
    "# We are going to repeat the same steps using the torch tensors\n",
    "\n",
    "# We need to intialize the parameters\n",
    "# We need to set the attiribute  \"requires_grad\" to True, since we want\n",
    "# gradient descent applied to these paramaters\n",
    "\n",
    "a = torch.randn(1, requires_grad = True,  dtype = torch.float, device = device)\n",
    "b = torch.randn(1, requires_grad = True, dtype = torch.float, device = device)\n",
    "\n",
    "print(a,b)\n",
    "\n"
   ]
  },
  {
   "cell_type": "code",
   "execution_count": 8,
   "metadata": {},
   "outputs": [
    {
     "name": "stdout",
     "output_type": "stream",
     "text": [
      "tensor([1.5303], requires_grad=True) tensor([1.9581], requires_grad=True)\n"
     ]
    }
   ],
   "source": [
    "# We are going to implement the Linear Regression using Pytorch\n",
    "\n",
    "# First we intialize the parameters\n",
    "a = torch.randn(1, requires_grad = True,  dtype = torch.float, device = device)\n",
    "b = torch.randn(1, requires_grad = True, dtype = torch.float, device = device)\n",
    "\n",
    "# We need to then initalize hyperparameters\n",
    "\n",
    "lr = 1e-1\n",
    "n_epochs = 1000\n",
    "\n",
    "for epoch in range(n_epochs):\n",
    "    # Predictions\n",
    "    y_hat = a + b * x_train_tensor\n",
    "    \n",
    "    # Compute the error\n",
    "    error = y_train_tensor - y_hat\n",
    "    loss = (error**2).mean()\n",
    "    \n",
    "    # Compute the gradients using the backward() method\n",
    "    loss.backward()\n",
    "    \n",
    "    #print(a.grad)\n",
    "    #print(b.grad)\n",
    "    \n",
    "    # we need to use no_grad  to keep the update out of the gradient computation\n",
    "    \n",
    "    with torch.no_grad():\n",
    "        a -= lr * a.grad\n",
    "        b -= lr * b.grad\n",
    "    \n",
    "    # This is to restart the gradient as I understand (to able to compute the\n",
    "    # new gradient based on the new values)\n",
    "    a.grad.zero_()\n",
    "    b.grad.zero_()\n",
    "print(a, b)"
   ]
  },
  {
   "cell_type": "code",
   "execution_count": 9,
   "metadata": {},
   "outputs": [],
   "source": [
    "# We are going to visuzalize the dynamic computational graph\n",
    "# using torchviz and its method make_dot()\n",
    "\n",
    "torch.manual_seed(42)\n",
    "\n",
    "a = torch.randn(1, requires_grad = True, dtype = torch.float, device = device)\n",
    "b = torch.randn(1, requires_grad = True, dtype = torch.float, device = device)\n",
    "\n",
    "yhat = a + b * x_train_tensor\n",
    "error = (y_train_tensor - yhat)\n",
    "loss = (error ** 2).mean()\n",
    "\n",
    "# Vizualizing the dynamic computational graph \n",
    "# We have a problem; for some reason the torchviz in not working"
   ]
  },
  {
   "cell_type": "code",
   "execution_count": null,
   "metadata": {},
   "outputs": [],
   "source": [
    "# Note: Computational graphs are created here "
   ]
  },
  {
   "cell_type": "code",
   "execution_count": 12,
   "metadata": {},
   "outputs": [
    {
     "name": "stdout",
     "output_type": "stream",
     "text": [
      "tensor([0.3367], requires_grad=True) tensor([0.1288], requires_grad=True)\n",
      "tensor([1.5303], requires_grad=True) tensor([1.9581], requires_grad=True)\n"
     ]
    }
   ],
   "source": [
    "# We are going to use an optimizer to update the gradients automatically\n",
    "# instead of use doing it manually\n",
    "\n",
    "torch.manual_seed(42)\n",
    "a = torch.randn(1, requires_grad = True, dtype = torch.float, device = device)\n",
    "b = torch.randn(1, requires_grad = True, dtype = torch.float, device = device)\n",
    "print(a,b)\n",
    "\n",
    "lr = 1e-1\n",
    "n_epochs = 1000\n",
    "\n",
    "# Defines a SGD optimizer to update the parameters\n",
    "\n",
    "optimizer = optim.SGD([a,b], lr = lr )\n",
    "\n",
    "for epoch in range(n_epochs):\n",
    "    # Prediction\n",
    "    yhat = a + b * x_train_tensor\n",
    "    \n",
    "    error = y_train_tensor - yhat\n",
    "    loss = (error ** 2).mean()\n",
    "    \n",
    "    loss.backward() # we compute the gradients of a and b using this method\n",
    "    \n",
    "    optimizer.step() # Its manually going to update our parameters\n",
    "    optimizer.zero_grad() # Zeroes the gradients (required for the dynamic computational graphs)\n",
    "    \n",
    "\n",
    "print(a,b)\n",
    "    "
   ]
  },
  {
   "cell_type": "code",
   "execution_count": 13,
   "metadata": {},
   "outputs": [
    {
     "name": "stdout",
     "output_type": "stream",
     "text": [
      "tensor([1.5303], requires_grad=True) tensor([1.9581], requires_grad=True)\n"
     ]
    }
   ],
   "source": [
    "# We repeat the same process but now we use the nn.MSELoss function to optimize\n",
    "# our code even further\n",
    "\n",
    "\n",
    "torch.manual_seed(42)\n",
    "\n",
    "a = torch.randn(1, requires_grad = True, dtype = torch.float, device = device)\n",
    "b = torch.randn(1, requires_grad = True, dtype = torch.float, device = device)\n",
    "\n",
    "lr = 1e-1\n",
    "n_epochs = 1000\n",
    "\n",
    "# Define the Loss MSE function\n",
    "loss_fn = nn.MSELoss(reduction = \"mean\")\n",
    "\n",
    "# Define the Optimizer\n",
    "optimizer = optim.SGD([a,b], lr = lr)\n",
    "\n",
    "for epoch in range(n_epochs):\n",
    "    \n",
    "    yhat = a +  b * x_train_tensor\n",
    "    \n",
    "    loss = loss_fn(y_train_tensor, yhat)\n",
    "    \n",
    "    loss.backward()\n",
    "    \n",
    "    optimizer.step()\n",
    "    optimizer.zero_grad()\n",
    "    \n",
    "print(a,b)"
   ]
  },
  {
   "cell_type": "code",
   "execution_count": 14,
   "metadata": {},
   "outputs": [],
   "source": [
    "# We are going to repeat the same regression problem but using\n",
    "# the Pytorch's Module Class\n",
    "\n",
    "class ManualLinearRegression(nn.Module):\n",
    "    def __init__(self):\n",
    "        super().__init__() # super() inherits the attributes and the methods\n",
    "                            # of the super class (i.e. the Module class)\n",
    "        # To make \"a\" and \"b\" real parametersof the model, we need\n",
    "        # to wrap them with nn.Parameter\n",
    "        \n",
    "        self.a = nn.Parameter(torch.randn(1, requires_grad = True, dtype = torch.float, device= device))\n",
    "        self.b = nn.Parameter(torch.randn(1, requires_grad = True, dtype = torch.float, device = device))\n",
    "        # We wrap the a and b in Parameter, so that our model knows that these\n",
    "        # variables are parameters and so that we can later on call the method\n",
    "        # Module.parameters() to extract all the parameters\n",
    "    def forward(self, x):\n",
    "        # Computes the outputs/predictions\n",
    "        return self.a + self.b *x"
   ]
  },
  {
   "cell_type": "code",
   "execution_count": 17,
   "metadata": {},
   "outputs": [
    {
     "name": "stdout",
     "output_type": "stream",
     "text": [
      "OrderedDict([('a', tensor([1.5303])), ('b', tensor([1.9581]))])\n"
     ]
    }
   ],
   "source": [
    "# Now, we are going to implement the problem using the class above\n",
    "\n",
    "torch.manual_seed(42)\n",
    "\n",
    "# Now we can create a model and send it at once to the device\n",
    "model = ManualLinearRegression().to(device)\n",
    "# We can also inspect the current parameters of the model\n",
    "model.state_dict()\n",
    "\n",
    "lr = 1e-1\n",
    "n_epochs = 1000\n",
    "\n",
    "loss_fn = nn.MSELoss(reduction = \"mean\")\n",
    "\n",
    "optimizer = optim.SGD(model.parameters(), lr = lr)\n",
    "\n",
    "for epoch in range(n_epochs):\n",
    "    \n",
    "    model.train() # I'm not quite sure what this is for\n",
    "    yhat = model(x_train_tensor)\n",
    "    loss = loss_fn(y_train_tensor, yhat)\n",
    "    loss.backward()\n",
    "    optimizer.step()\n",
    "    optimizer.zero_grad()\n",
    "\n",
    "print(model.state_dict())"
   ]
  },
  {
   "cell_type": "code",
   "execution_count": 22,
   "metadata": {},
   "outputs": [],
   "source": [
    "# Nested Models; Show how a model class can have models as attributes (nested)\n",
    "\n",
    "# Redisign the LinearModel Class\n",
    "\n",
    "class LayerLinearRegression(nn.Module):\n",
    "    def __init__(self):\n",
    "        super().__init__()\n",
    "        # Instead of our custom parameters, we use a linear layer with single\n",
    "        # input and single output\n",
    "        self.linear = nn.Linear(1,1)\n",
    "    \n",
    "    def forward(self, x):\n",
    "        # Now it only takes a call tot he layer to make predictions\n",
    "        return self.linear(x)\n",
    "\n",
    "\n",
    "    "
   ]
  },
  {
   "cell_type": "code",
   "execution_count": 23,
   "metadata": {},
   "outputs": [],
   "source": [
    "## Here is how our Linear Regression Model would look like if we wanted \n",
    "# to use the Sequential Model module\n",
    "model = nn.Sequential(nn.Linear(1,1).to(device))"
   ]
  },
  {
   "cell_type": "code",
   "execution_count": 31,
   "metadata": {},
   "outputs": [
    {
     "name": "stdout",
     "output_type": "stream",
     "text": [
      "OrderedDict([('weight', tensor([[1.9581]])), ('bias', tensor([1.5303]))])\n"
     ]
    }
   ],
   "source": [
    "# Train Step\n",
    "\n",
    "def make_train_step(model, loss_fn, optimizer):\n",
    "    # Builds function that performs a step in the train loop\n",
    "    def train_step(x, y):\n",
    "        # Sets model to train mode\n",
    "        model.train()\n",
    "        # Makes predictions\n",
    "        yhat = model(x)\n",
    "        # Compute the Loss\n",
    "        loss = loss_fn(y, yhat)\n",
    "        #Computes the gradients\n",
    "        loss.backward()\n",
    "        # Updates the parameters and zeroes the gradiaents\n",
    "        optimizer.step()\n",
    "        optimizer.zero_grad()\n",
    "        # Returns the loss\n",
    "        return loss.item()\n",
    "    \n",
    "    # Returns the function that will be called inside the train loop\n",
    "    return train_step\n",
    "\n",
    "train_step = make_train_step(model, loss_fn, optimizer)\n",
    "losses = []\n",
    "\n",
    "for epoch in range(n_epochs):\n",
    "    loss = train_step(x_train_tensor, y_train_tensor)\n",
    "    losses.append(loss)\n",
    "\n",
    "# Check model's parameters\n",
    "print(model.state_dict())\n"
   ]
  },
  {
   "cell_type": "code",
   "execution_count": 36,
   "metadata": {},
   "outputs": [
    {
     "name": "stdout",
     "output_type": "stream",
     "text": [
      "(tensor([0.5227]), tensor([2.7714]))\n",
      "(tensor([0.5227]), tensor([2.7714]))\n"
     ]
    }
   ],
   "source": [
    "# Build a custom dataset class\n",
    "from torch.utils.data import Dataset, TensorDataset\n",
    "\n",
    "class CustomDataset(Dataset):\n",
    "    def __init__(self, x_tensor, y_tensor):\n",
    "        self.x = x_tensor\n",
    "        self.y = y_tensor\n",
    "    def __getitem__(self, index):\n",
    "        return (self.x[index], self.y[index])\n",
    "    def __len__(self):\n",
    "        return len(self.x)\n",
    "\n",
    "x_train_tensor = torch.from_numpy(x_train).float()\n",
    "y_train_tensor = torch.from_numpy(y_train).float()\n",
    "\n",
    "tensor_data = CustomDataset(x_train_tensor, y_train_tensor)\n",
    "print(tensor_data[0])\n",
    "\n",
    "train_data = TensorDataset(x_train_tensor, y_train_tensor)\n",
    "print(train_data[0])"
   ]
  },
  {
   "cell_type": "code",
   "execution_count": 37,
   "metadata": {},
   "outputs": [
    {
     "data": {
      "text/plain": [
       "[tensor([[0.9219],\n",
       "         [0.5467],\n",
       "         [0.0740],\n",
       "         [0.3252],\n",
       "         [0.5979],\n",
       "         [0.3745],\n",
       "         [0.4952],\n",
       "         [0.1834],\n",
       "         [0.1560],\n",
       "         [0.5227],\n",
       "         [0.4722],\n",
       "         [0.1409],\n",
       "         [0.9395],\n",
       "         [0.0746],\n",
       "         [0.6376],\n",
       "         [0.3046]]), tensor([[3.0858],\n",
       "         [2.1449],\n",
       "         [1.5348],\n",
       "         [2.3104],\n",
       "         [3.1815],\n",
       "         [1.7805],\n",
       "         [2.2421],\n",
       "         [2.2383],\n",
       "         [1.5613],\n",
       "         [2.7714],\n",
       "         [2.1863],\n",
       "         [1.6026],\n",
       "         [3.0239],\n",
       "         [1.1899],\n",
       "         [2.8303],\n",
       "         [2.1280]])]"
      ]
     },
     "execution_count": 37,
     "metadata": {},
     "output_type": "execute_result"
    }
   ],
   "source": [
    "# DataLoader\n",
    "\n",
    "from torch.utils.data import DataLoader\n",
    "\n",
    "train_loader = DataLoader(dataset = train_data, batch_size = 16, shuffle = True)\n",
    "\n",
    "# To retrieve a sample mini-batch, simply run the command\n",
    "next(iter(train_loader))"
   ]
  },
  {
   "cell_type": "code",
   "execution_count": 38,
   "metadata": {},
   "outputs": [
    {
     "name": "stdout",
     "output_type": "stream",
     "text": [
      "OrderedDict([('weight', tensor([[1.9560]])), ('bias', tensor([1.5246]))])\n"
     ]
    }
   ],
   "source": [
    "# Now we are going to use our dataset and data loader to modify our code above\n",
    "\n",
    "losse = []\n",
    "train_step = make_train_step(model, loss_fn, optimizer)\n",
    "\n",
    "for epoch in range(n_epochs):\n",
    "    for x_batch, y_batch in train_loader:\n",
    "         # the dataset \"lives\" in the CPU, so we need to send it to the device\n",
    "        # where the model \"lives\"\n",
    "        x_batch = x_batch.to(device)\n",
    "        y_batch = y_batch.to(device)\n",
    "        \n",
    "        loss = train_step(x_batch, y_batch)\n",
    "        \n",
    "        losses.append(loss)\n",
    "        \n",
    "        \n",
    "print(model.state_dict())"
   ]
  },
  {
   "cell_type": "code",
   "execution_count": 39,
   "metadata": {},
   "outputs": [],
   "source": [
    "# We are going to use the training PyTorch's Random_Split method to split the\n",
    "# data into training and validation set\n",
    "\n",
    "from torch.utils.data.dataset import random_split\n",
    "\n",
    "x_tensor = torch.from_numpy(x).float()\n",
    "y_tensor = torch.from_numpy(y).float()\n",
    "\n",
    "dataset = TensorDataset(x_tensor, y_tensor)\n",
    "\n",
    "train_dataset, val_dataset = random_split(dataset, [80,20])\n",
    "\n",
    "train_loader = DataLoader(dataset = train_dataset, batch_size = 16, shuffle = True)\n",
    "val_loader = DataLoader(dataset = val_dataset, batch_size = 16)"
   ]
  },
  {
   "cell_type": "code",
   "execution_count": 41,
   "metadata": {},
   "outputs": [
    {
     "name": "stdout",
     "output_type": "stream",
     "text": [
      "OrderedDict([('weight', tensor([[1.9979]])), ('bias', tensor([1.4945]))])\n"
     ]
    },
    {
     "name": "stdout",
     "output_type": "stream",
     "text": [
      "[0.09720437228679657, 0.0817413404583931, 0.09578168392181396, 0.08380592614412308, 0.09638525545597076, 0.08277467638254166, 0.09752064198255539, 0.08137867599725723, 0.1002296730875969, 0.07942860573530197, 0.09689612686634064, 0.08209078013896942, 0.09540413320064545, 0.08446203917264938, 0.09577560424804688, 0.0837317630648613, 0.0949385017156601, 0.0855427011847496, 0.09552493691444397, 0.08414643257856369, 0.09697741270065308, 0.08192579448223114, 0.09569606184959412, 0.08380906283855438, 0.09551605582237244, 0.08418770134449005, 0.09475111961364746, 0.08610300719738007, 0.09466777741909027, 0.08628270030021667, 0.09629089385271072, 0.08285421133041382, 0.09615474939346313, 0.083064503967762, 0.09716706722974777, 0.08173417299985886, 0.09705208241939545, 0.08186476677656174, 0.09635405242443085, 0.08276955038309097, 0.09536400437355042, 0.08450216054916382, 0.09724177420139313, 0.08163172751665115, 0.09591275453567505, 0.08345828950405121, 0.09736952930688858, 0.08149900287389755, 0.0969531238079071, 0.0819709450006485, 0.09742876887321472, 0.08144843578338623, 0.09672105312347412, 0.08227206021547318, 0.0963093638420105, 0.08284366875886917, 0.09622827172279358, 0.08296132832765579, 0.09547102451324463, 0.08428099751472473, 0.09452101588249207, 0.08671342581510544, 0.09632328152656555, 0.08277055621147156, 0.09748011082410812, 0.08136925101280212, 0.096490778028965, 0.08253639191389084, 0.09629301726818085, 0.08282211422920227, 0.09637366980314255, 0.08270473778247833, 0.09784817695617676, 0.08102204650640488, 0.09957045316696167, 0.07976529747247696, 0.098529152572155, 0.08045671135187149, 0.09871223568916321, 0.08032310754060745, 0.09469310939311981, 0.08614824712276459, 0.0959235280752182, 0.08338271826505661, 0.09870538860559464, 0.08031482249498367, 0.09731585532426834, 0.08154603093862534, 0.0956035852432251, 0.08400373160839081, 0.09714852273464203, 0.08173983544111252, 0.09485780447721481, 0.08565545827150345, 0.09555564075708389, 0.08411286771297455, 0.09621749073266983, 0.08295711129903793, 0.0958782434463501, 0.08351396024227142, 0.09568145871162415, 0.08385585993528366, 0.09679737687110901, 0.08219584077596664, 0.09567178785800934, 0.08392329514026642, 0.09591510891914368, 0.0835026204586029, 0.09604819118976593, 0.08329608291387558, 0.09603863954544067, 0.08331291377544403, 0.09539733827114105, 0.08453426510095596, 0.09571389853954315, 0.08386579900979996, 0.09784616529941559, 0.08105089515447617, 0.09765293449163437, 0.08123187720775604, 0.09908140450716019, 0.08007635921239853, 0.0967276394367218, 0.0822736918926239, 0.09715958684682846, 0.08174888044595718, 0.09663330018520355, 0.08238882571458817, 0.09626874327659607, 0.08291122317314148, 0.09759175777435303, 0.08129097521305084, 0.0987481027841568, 0.08030703663825989, 0.10083663463592529, 0.07914792746305466, 0.09702838957309723, 0.0819060355424881, 0.09644011408090591, 0.08267201483249664, 0.09718639403581619, 0.08173543959856033, 0.09504306316375732, 0.08537062257528305, 0.09476973861455917, 0.0861191377043724, 0.09676103293895721, 0.08222079277038574, 0.09694275259971619, 0.0820031389594078, 0.09485092759132385, 0.08582290261983871, 0.09679695218801498, 0.08218882977962494, 0.09827271848917007, 0.0806761384010315, 0.09575867652893066, 0.08374464511871338, 0.09902158379554749, 0.08011560887098312, 0.09894442558288574, 0.08016909658908844, 0.09759369492530823, 0.08128434419631958, 0.0976654514670372, 0.08121301233768463, 0.09533274918794632, 0.08457878232002258, 0.09538304805755615, 0.08449500799179077, 0.09724417328834534, 0.08164592832326889, 0.09766225516796112, 0.08122275769710541, 0.09541796892881393, 0.0844184160232544, 0.09639114886522293, 0.08272846043109894, 0.09537206590175629, 0.08451180905103683, 0.0962340459227562, 0.08294851332902908, 0.09667661786079407, 0.08233776688575745, 0.09888097643852234, 0.08022080361843109, 0.09979972243309021, 0.07965074479579926, 0.09744389355182648, 0.0814468115568161, 0.09632521867752075, 0.08283139020204544, 0.0966317281126976, 0.08241234719753265, 0.09636639803647995, 0.08278600871562958, 0.09518355876207352, 0.08500033617019653, 0.09546637535095215, 0.08437412232160568, 0.09606153517961502, 0.08328256756067276, 0.0971154049038887, 0.0818500891327858, 0.10057655721902847, 0.07927199453115463, 0.09752734750509262, 0.08138997107744217, 0.09703093767166138, 0.08193204551935196, 0.09725980460643768, 0.08166774362325668, 0.09668973833322525, 0.08235236257314682, 0.09716436266899109, 0.08176114410161972, 0.09625290334224701, 0.08294989168643951, 0.09581815451383591, 0.08368062973022461, 0.09640396386384964, 0.08273366838693619, 0.09674784541130066, 0.08227300643920898, 0.09758845716714859, 0.08130926638841629, 0.09586063772439957, 0.08359654247760773, 0.09559758007526398, 0.08407212048768997, 0.09657104313373566, 0.08247338235378265, 0.09726618230342865, 0.0816197469830513, 0.0989275723695755, 0.08018311858177185, 0.09645471721887589, 0.08261829614639282, 0.09486375749111176, 0.08576890081167221, 0.09630705416202545, 0.08282674849033356, 0.09684739261865616, 0.08210134506225586, 0.09623078256845474, 0.08293795585632324, 0.09680281579494476, 0.08216060698032379, 0.09715300798416138, 0.08173791319131851, 0.09699736535549164, 0.08192582428455353, 0.0963062196969986, 0.08285173028707504, 0.09619703143835068, 0.08299663662910461, 0.09604250639677048, 0.08324030041694641, 0.09809661656618118, 0.08082053065299988, 0.09568674862384796, 0.08386722952127457, 0.09598307311534882, 0.08334867656230927, 0.09698951989412308, 0.08194553852081299, 0.09734437614679337, 0.08153894543647766, 0.09836938977241516, 0.08059247583150864, 0.09679048508405685, 0.08217024803161621, 0.0967305600643158, 0.08224314451217651, 0.09480075538158417, 0.08590031415224075, 0.09598948806524277, 0.08330320566892624, 0.09698031097650528, 0.08194362372159958, 0.0962299257516861, 0.0829489454627037, 0.09679632633924484, 0.08216330409049988, 0.09582755714654922, 0.08360753953456879, 0.09624190628528595, 0.08290386945009232, 0.09622997045516968, 0.0829220786690712, 0.09666457772254944, 0.0823025330901146, 0.09468546509742737, 0.08613268285989761, 0.0969100147485733, 0.08199538290500641, 0.09548632800579071, 0.08419643342494965, 0.09624955803155899, 0.08288627862930298, 0.09655876457691193, 0.08246971666812897, 0.09685666114091873, 0.08207910507917404, 0.09710796177387238, 0.08177269995212555, 0.09550349414348602, 0.08416763693094254, 0.09613358974456787, 0.08306007087230682, 0.09704707562923431, 0.08182749897241592, 0.09612224996089935, 0.08306863903999329, 0.0983898863196373, 0.08055025339126587, 0.09830779582262039, 0.0806218609213829, 0.09667880088090897, 0.08228285610675812, 0.09666545689105988, 0.08231586962938309, 0.09615810960531235, 0.08300627768039703, 0.09523032605648041, 0.08474716544151306, 0.09626596421003342, 0.08288195729255676, 0.09852857887744904, 0.080462746322155, 0.09589973092079163, 0.08346717059612274, 0.09643387794494629, 0.08265499025583267, 0.09657984226942062, 0.08245678246021271, 0.0957873985171318, 0.08367897570133209, 0.09639228880405426, 0.08271230012178421, 0.09737996757030487, 0.08148755878210068, 0.09658807516098022, 0.08242391794919968, 0.09565469622612, 0.08390755206346512, 0.09595745801925659, 0.08337529748678207, 0.09635335952043533, 0.08274009823799133, 0.0983431488275528, 0.08060212433338165, 0.09750564396381378, 0.08136186748743057, 0.0957147479057312, 0.08378101885318756, 0.09816163033246994, 0.08075784891843796, 0.09683194756507874, 0.08211347460746765, 0.09542611241340637, 0.08434861153364182, 0.09519095718860626, 0.08489803969860077, 0.09545328468084335, 0.08430200070142746, 0.09556835889816284, 0.08410101383924484, 0.09658823162317276, 0.08245425671339035, 0.09663423895835876, 0.0823834165930748, 0.09569372236728668, 0.08386015892028809, 0.09742175042629242, 0.08144732564687729, 0.09808871150016785, 0.08081499487161636, 0.09670812636613846, 0.08226659148931503, 0.09585055708885193, 0.08354521542787552, 0.09672901779413223, 0.08223789185285568, 0.09646710008382797, 0.0825905129313469, 0.0946819856762886, 0.08625642955303192, 0.09506604820489883, 0.08514927327632904, 0.09813474863767624, 0.08076420426368713, 0.0996231734752655, 0.07972947508096695, 0.09548065811395645, 0.0841677114367485, 0.09658018499612808, 0.08238143473863602, 0.09666402637958527, 0.08228453248739243, 0.09676385670900345, 0.08215050399303436, 0.09857243299484253, 0.08040247112512589, 0.09649099409580231, 0.08251003175973892, 0.09809234738349915, 0.08078530430793762, 0.09492611885070801, 0.08544047176837921, 0.09514261037111282, 0.0849260687828064, 0.09704037010669708, 0.08183817565441132, 0.09570452570915222, 0.08377351611852646, 0.097230926156044, 0.08163513988256454, 0.09753122180700302, 0.0813225731253624, 0.09688440710306168, 0.08204425126314163, 0.09558246284723282, 0.08402837812900543, 0.095266193151474, 0.08470264077186584, 0.0976712554693222, 0.0811970978975296, 0.09705280512571335, 0.0818687453866005, 0.09743490815162659, 0.0814361721277237, 0.09508387744426727, 0.08512531965970993, 0.09636393189430237, 0.08275073021650314, 0.0957830622792244, 0.08367086946964264, 0.09674399346113205, 0.08222924172878265, 0.09550128877162933, 0.08420012146234512, 0.09669719636440277, 0.08230314403772354, 0.09501674771308899, 0.08532243967056274, 0.09809654206037521, 0.08081119507551193, 0.09904646873474121, 0.0800837054848671, 0.09486186504364014, 0.08568689972162247, 0.09783108532428741, 0.08103998005390167, 0.09896356612443924, 0.08015591651201248, 0.09593124687671661, 0.08342482894659042, 0.09647267311811447, 0.08258441835641861, 0.09780290722846985, 0.08107194304466248, 0.09762874245643616, 0.0812307670712471, 0.09629252552986145, 0.08284062892198563, 0.09705543518066406, 0.08184373378753662, 0.09457585960626602, 0.08664777874946594, 0.09543435275554657, 0.08435230702161789, 0.09596594423055649, 0.08339224755764008, 0.09621305763721466, 0.0829831212759018, 0.09735613316297531, 0.08153685182332993, 0.09694092720746994, 0.08199190348386765, 0.0970134362578392, 0.08189626038074493, 0.09690647572278976, 0.08202854543924332, 0.09644421935081482, 0.08262705057859421, 0.0973050594329834, 0.08156497031450272, 0.0956706553697586, 0.08386802673339844, 0.09658948332071304, 0.08243017643690109, 0.09828037023544312, 0.08065928518772125, 0.09650690853595734, 0.08254659175872803, 0.09588202834129333, 0.0835379883646965, 0.09771307557821274, 0.08118513971567154, 0.09585872292518616, 0.0835811123251915, 0.09657500684261322, 0.08246254920959473, 0.09608839452266693, 0.0831889733672142, 0.09518085420131683, 0.0849490836262703, 0.09539029747247696, 0.0844709500670433, 0.09686312824487686, 0.08207228034734726, 0.09682215750217438, 0.08212041109800339, 0.09756643325090408, 0.08128815144300461, 0.09645228832960129, 0.08258900046348572, 0.09678728133440018, 0.08215519785881042, 0.09613943099975586, 0.08305450528860092, 0.09632690995931625, 0.08279678970575333, 0.09516353160142899, 0.08496420085430145, 0.09683127701282501, 0.08212922513484955, 0.09526315331459045, 0.08464188873767853, 0.09573333710432053, 0.08371376246213913, 0.09790828078985214, 0.0809536948800087, 0.09809457510709763, 0.08078821003437042, 0.09702187031507492, 0.08185216784477234, 0.09672585129737854, 0.08220205456018448, 0.0968804880976677, 0.08200887590646744, 0.09573591500520706, 0.08367904275655746, 0.09557098150253296, 0.08401647955179214, 0.097633957862854, 0.0811975821852684, 0.09652765095233917, 0.08244690299034119, 0.09778282791376114, 0.08106140792369843, 0.09677475690841675, 0.0821421667933464, 0.09752894937992096, 0.08130583167076111, 0.096769779920578, 0.08215771615505219, 0.0955657809972763, 0.08403165638446808, 0.09624488651752472, 0.08288785815238953, 0.09665663540363312, 0.08231566846370697, 0.09454189240932465, 0.08663199096918106, 0.09627647697925568, 0.08283556997776031, 0.0948692262172699, 0.08565229177474976, 0.09768719971179962, 0.08116938173770905, 0.09687592089176178, 0.08203134685754776, 0.09670470654964447, 0.08224688470363617, 0.09610799700021744, 0.083059161901474, 0.09742796421051025, 0.08141408860683441, 0.09576578438282013, 0.0836508497595787, 0.09541711211204529, 0.08432368189096451, 0.09492772817611694, 0.0855005756020546, 0.0964868813753128, 0.08255266398191452, 0.09694191068410873, 0.08197031915187836, 0.09687668830156326, 0.08204872906208038, 0.09557724744081497, 0.08401533961296082, 0.09609678387641907, 0.08314274251461029, 0.09766557067632675, 0.08120470494031906, 0.09672890603542328, 0.08225039392709732, 0.09711761027574539, 0.08177979290485382, 0.09845796972513199, 0.08051446080207825, 0.09584533423185349, 0.08355450630187988, 0.09716563671827316, 0.08173152804374695, 0.09709687530994415, 0.0818190649151802, 0.09667226672172546, 0.08234301209449768, 0.09659592807292938, 0.08243974298238754, 0.09589221328496933, 0.08350913971662521, 0.09524045884609222, 0.08480534702539444, 0.09801654517650604, 0.08089040964841843, 0.0979248434305191, 0.0809745267033577, 0.09703093767166138, 0.08188561350107193, 0.09582255780696869, 0.08360651135444641, 0.09654781967401505, 0.0824936032295227, 0.09555128216743469, 0.08413805067539215, 0.09910475462675095, 0.08005671203136444, 0.0954730287194252, 0.08424915373325348, 0.0949450358748436, 0.08548905700445175, 0.09687654674053192, 0.0820612981915474, 0.09722575545310974, 0.08166567981243134, 0.09524592757225037, 0.08478596061468124, 0.09593146294355392, 0.08341816067695618, 0.09991060197353363, 0.07957883179187775, 0.09995056688785553, 0.07955819368362427, 0.09833920747041702, 0.08061985671520233, 0.09826182574033737, 0.08068482577800751, 0.09706541895866394, 0.08186488598585129, 0.09747353196144104, 0.08141441643238068, 0.09712585061788559, 0.08179537951946259, 0.096022829413414, 0.0833057090640068, 0.09577642381191254, 0.08375994116067886, 0.0977259948849678, 0.08118539303541183, 0.0985647514462471, 0.08046267181634903, 0.09703154116868973, 0.08192560076713562, 0.09545226395130157, 0.08444131910800934, 0.09714958816766739, 0.08179052174091339, 0.09664081782102585, 0.08242501318454742, 0.09531642496585846, 0.08469051122665405, 0.096033476293087, 0.0832970142364502, 0.09568813443183899, 0.08392370492219925, 0.09568627178668976, 0.08393190056085587, 0.09642211347818375, 0.08271666616201401, 0.0963999480009079, 0.08271922916173935, 0.09716156125068665, 0.0817592442035675, 0.09760849922895432, 0.0812862291932106, 0.09647786617279053, 0.08261337876319885, 0.09833648800849915, 0.08062445372343063, 0.09658098965883255, 0.082449771463871, 0.09650216996669769, 0.0825694277882576, 0.09567590057849884, 0.08388401567935944, 0.09510532766580582, 0.08509872108697891, 0.0969407707452774, 0.08199070394039154, 0.09760358929634094, 0.08128680288791656, 0.09748022258281708, 0.08141960948705673, 0.09687087684869766, 0.08207733929157257, 0.09667263925075531, 0.08232858777046204, 0.09614220261573792, 0.08309240639209747, 0.09719020128250122, 0.08169706910848618, 0.09537626802921295, 0.08444433659315109, 0.09847039729356766, 0.08050909638404846, 0.09784792363643646, 0.08101754635572433, 0.09520089626312256, 0.08480013161897659, 0.09620224684476852, 0.08296375721693039, 0.09570875763893127, 0.08378218859434128, 0.09729968756437302, 0.08156538754701614, 0.0951535627245903, 0.08489038795232773, 0.09730412065982819, 0.08154968917369843, 0.0980912446975708, 0.08080532401800156, 0.0955548882484436, 0.08407723903656006, 0.09639095515012741, 0.08268772065639496, 0.09715971350669861, 0.08171491324901581, 0.09626465290784836, 0.08286979794502258, 0.09671775251626968, 0.08225218206644058, 0.0966341495513916, 0.08236783742904663, 0.09596443176269531, 0.08333650976419449, 0.09682190418243408, 0.08210720121860504, 0.09544602781534195, 0.08427135646343231, 0.09582801163196564, 0.08356775343418121, 0.09680051356554031, 0.08213554322719574, 0.0970609188079834, 0.08182092010974884, 0.09607618302106857, 0.08313371241092682, 0.09904353320598602, 0.08008889108896255, 0.09818347543478012, 0.08072855323553085, 0.09734790027141571, 0.08151058107614517, 0.09720803797245026, 0.08167199790477753, 0.09786036610603333, 0.08101589977741241, 0.09787440299987793, 0.08101388067007065, 0.09631818532943726, 0.08282319456338882, 0.0977930799126625, 0.0810677781701088, 0.09571124613285065, 0.08376079797744751, 0.09584852308034897, 0.08353505283594131, 0.09588012099266052, 0.08347679674625397, 0.09761695563793182, 0.08124037832021713, 0.09654751420021057, 0.08247869461774826, 0.09598467499017715, 0.08334009349346161, 0.09844236075878143, 0.080532506108284, 0.09591519087553024, 0.08345538377761841, 0.09721612185239792, 0.08167679607868195, 0.09878268837928772, 0.08028002828359604, 0.09904827922582626, 0.080091193318367, 0.0970577672123909, 0.0818563774228096, 0.09662779420614243, 0.08239059895277023, 0.0974438488483429, 0.08144032210111618, 0.09602367132902145, 0.08328213542699814, 0.0964241772890091, 0.08269207924604416, 0.09853177517652512, 0.08046918362379074, 0.09589742869138718, 0.08349891006946564, 0.09598764032125473, 0.08331573754549026, 0.09478652477264404, 0.0859290212392807, 0.09526985883712769, 0.08464384824037552, 0.09816473722457886, 0.0807364284992218, 0.09570886194705963, 0.0837540403008461, 0.0954388827085495, 0.08426861464977264, 0.09655753523111343, 0.08242148905992508, 0.09783218801021576, 0.08102219551801682, 0.09645308554172516, 0.08257240802049637, 0.09707272797822952, 0.08178438246250153, 0.09609487652778625, 0.08307117223739624, 0.09618203341960907, 0.08293049782514572, 0.09788002073764801, 0.0809771791100502, 0.0960242971777916, 0.08319015800952911, 0.09722115844488144, 0.0816260427236557, 0.0972074344754219, 0.08163096010684967, 0.09664563834667206, 0.08230181783437729, 0.09663122892379761, 0.0823095515370369, 0.09623803198337555, 0.08284860849380493, 0.09511116147041321, 0.08499165624380112, 0.0961686223745346, 0.08299379795789719, 0.09716097265481949, 0.08169172704219818, 0.09623514115810394, 0.08286184072494507, 0.09712429344654083, 0.08172743022441864, 0.09704985469579697, 0.08181952685117722, 0.09738865494728088, 0.08145582675933838, 0.09694744646549225, 0.08195020258426666, 0.0984373390674591, 0.08052289485931396, 0.09653967618942261, 0.0824735164642334, 0.09722119569778442, 0.08163616806268692, 0.09719695895910263, 0.08164816349744797, 0.09809930622577667, 0.08077874034643173, 0.09653525054454803, 0.0824509859085083, 0.09545013308525085, 0.084229476749897, 0.09675899147987366, 0.08216889947652817, 0.09548301249742508, 0.08417506515979767, 0.094350166618824, 0.08724218606948853, 0.09563835710287094, 0.08383722603321075, 0.09530230611562729, 0.08451378345489502, 0.09571173787117004, 0.08371992409229279, 0.09654146432876587, 0.08245304226875305, 0.09621845185756683, 0.08291786909103394, 0.09712541103363037, 0.08174674212932587, 0.09622080624103546, 0.08292871713638306, 0.0965292751789093, 0.08249127864837646, 0.09739349782466888, 0.08146124333143234, 0.0979040190577507, 0.08096686750650406, 0.09661200642585754, 0.08236278593540192, 0.09722660481929779, 0.08161991834640503, 0.09743279218673706, 0.08140867203474045, 0.0958823710680008, 0.08345305919647217, 0.09940191358327866, 0.07985003292560577, 0.09733821451663971, 0.08149393647909164, 0.095709890127182, 0.08367566019296646, 0.09768916666507721, 0.08112947642803192, 0.09837335348129272, 0.0805487260222435, 0.09728030860424042, 0.08155322074890137, 0.09760028123855591, 0.08122318238019943, 0.09689545631408691, 0.08196699619293213, 0.09856931120157242, 0.08039682358503342, 0.09641247987747192, 0.0825958102941513, 0.09598354995250702, 0.08323810249567032, 0.09569824486970901, 0.08372218906879425, 0.09632635861635208, 0.08270689845085144, 0.09594710171222687, 0.0832979753613472, 0.09523112326860428, 0.08469186723232269, 0.09457118064165115, 0.08643551170825958, 0.09715631604194641, 0.08168761432170868, 0.09819118678569794, 0.08069772273302078, 0.09599906206130981, 0.08320717513561249, 0.09645988047122955, 0.0825350284576416, 0.09504211694002151, 0.08507445454597473, 0.09519997984170914, 0.08471285551786423, 0.09524533897638321, 0.08462490141391754, 0.09503808617591858, 0.08511713892221451, 0.09666549414396286, 0.08225543797016144, 0.09681500494480133, 0.08206728845834732, 0.09822534024715424, 0.08066830784082413, 0.09703530371189117, 0.08183038234710693, 0.0975312665104866, 0.08130355179309845, 0.09642474353313446, 0.08261183649301529, 0.09762220084667206, 0.08120794594287872, 0.09579011797904968, 0.08356944471597672, 0.09564322233200073, 0.08383091539144516, 0.09659644216299057, 0.08236496150493622, 0.09661931544542313, 0.08232606202363968, 0.09626856446266174, 0.08282817900180817, 0.0953151136636734, 0.08449724316596985, 0.0958951860666275, 0.08340799808502197, 0.09409526735544205, 0.08849033713340759, 0.0952000543475151, 0.08481691777706146, 0.09686176478862762, 0.0820586085319519, 0.09588920325040817, 0.08346106112003326, 0.09461167454719543, 0.08645832538604736, 0.09535378217697144, 0.08446886390447617, 0.09656781703233719, 0.08243817836046219, 0.09552019089460373, 0.08415084332227707, 0.09516500681638718, 0.08487281203269958, 0.09523232281208038, 0.08474264293909073, 0.09655608236789703, 0.082449771463871, 0.09742431342601776, 0.08143924921751022, 0.09709864854812622, 0.08177632093429565, 0.09570513665676117, 0.0837729349732399, 0.09594223648309708, 0.08337118476629257, 0.09913612902164459, 0.0800260454416275, 0.09677355736494064, 0.08216926455497742, 0.09602600336074829, 0.08324304968118668, 0.09509667009115219, 0.08508437871932983, 0.09616449475288391, 0.08299928903579712, 0.09633166342973709, 0.08275078237056732, 0.09471909701824188, 0.086028091609478, 0.09551958739757538, 0.08410939574241638, 0.09659595042467117, 0.08238992094993591, 0.09676401317119598, 0.08218134939670563, 0.09844432771205902, 0.08051864057779312, 0.09688163548707962, 0.08203599601984024, 0.09853355586528778, 0.08046134561300278, 0.09714949131011963, 0.0817679911851883, 0.09682396799325943, 0.082160584628582, 0.09671380370855331, 0.08231493830680847, 0.09752727299928665, 0.08137486129999161, 0.09762021154165268, 0.08127705007791519, 0.09770474582910538, 0.08119472861289978, 0.09653720259666443, 0.0825541615486145, 0.09521869570016861, 0.08491990715265274, 0.09618429094552994, 0.08308164030313492, 0.09690383076667786, 0.0820680782198906, 0.09538529813289642, 0.08447487652301788, 0.09486449509859085, 0.08577827364206314, 0.0952088013291359, 0.08488357812166214, 0.09467670321464539, 0.08619433641433716, 0.09640666097402573, 0.08266238868236542, 0.09663772583007812, 0.08235985785722733, 0.0964682549238205, 0.08255618065595627, 0.09595581889152527, 0.08334758877754211, 0.09565354138612747, 0.08386628329753876, 0.09531484544277191, 0.08456207066774368, 0.09593770653009415, 0.08338386565446854, 0.0974622443318367, 0.08139162510633469, 0.09738364815711975, 0.08146139234304428, 0.09775011241436005, 0.08109398931264877, 0.09679403901100159, 0.08213627338409424, 0.09692323207855225, 0.081977978348732, 0.09571367502212524, 0.08374502509832382, 0.09616497904062271, 0.08296412229537964, 0.09796090424060822, 0.08090764284133911, 0.09941497445106506, 0.0798422172665596, 0.09682391583919525, 0.08206350356340408, 0.09567858278751373, 0.08374729007482529, 0.09607987105846405, 0.08308777958154678, 0.09761781990528107, 0.08121787756681442, 0.09669340401887894, 0.08223415166139603, 0.0968388095498085, 0.08204606920480728, 0.09716788679361343, 0.0816650390625, 0.09948934614658356, 0.07979416102170944, 0.09610807150602341, 0.0830470621585846, 0.09627952426671982, 0.0827898234128952, 0.09716713428497314, 0.08167450875043869, 0.09721382707357407, 0.08163395524024963, 0.095932736992836, 0.0833352580666542, 0.09487665444612503, 0.08553468436002731, 0.09493456780910492, 0.08538062125444412, 0.09572167694568634, 0.0836656242609024, 0.0959073156118393, 0.08338713645935059, 0.09443441033363342, 0.08693677932024002, 0.09452306479215622, 0.08667096495628357, 0.09515571594238281, 0.08491286635398865, 0.09551870822906494, 0.08411963284015656, 0.09578469395637512, 0.08362629264593124, 0.09756915271282196, 0.08128470927476883, 0.09855972230434418, 0.08042864501476288, 0.09647102653980255, 0.08257538825273514, 0.09526379406452179, 0.08467283099889755, 0.09515328705310822, 0.08495547622442245, 0.09571200609207153, 0.08376709371805191, 0.09600400179624557, 0.08327817916870117, 0.09632376581430435, 0.08278849720954895, 0.09569436311721802, 0.0837845727801323, 0.09509743750095367, 0.08504141867160797, 0.09874559938907623, 0.08028454333543777, 0.09893116354942322, 0.08015727996826172, 0.09650961309671402, 0.08248340338468552, 0.09635026752948761, 0.08269848674535751, 0.09608335793018341, 0.08310005068778992, 0.09584594517946243, 0.08349208533763885, 0.09624476730823517, 0.08286860585212708, 0.09759613871574402, 0.08125372231006622, 0.0987856537103653, 0.08026892691850662, 0.09805892407894135, 0.08083124458789825, 0.09684409946203232, 0.0820762887597084, 0.09470655769109726, 0.08613517880439758, 0.09702926874160767, 0.08186526596546173, 0.09663436561822891, 0.08236677944660187, 0.09806573390960693, 0.08083377778530121, 0.09679991751909256, 0.0821329802274704, 0.096039779484272, 0.08320394158363342, 0.09765303879976273, 0.08119864016771317, 0.09624866396188736, 0.08288667351007462, 0.0983729287981987, 0.08056777715682983, 0.09630877524614334, 0.08277934044599533, 0.09568840265274048, 0.08378220349550247, 0.09568111598491669, 0.08379799127578735, 0.0978647917509079, 0.08099259436130524, 0.09573285281658173, 0.08371694386005402, 0.09669020771980286, 0.08226276189088821, 0.09574516117572784, 0.08369486033916473, 0.09779812395572662, 0.08105308562517166, 0.09432481974363327, 0.08735333383083344, 0.09700456261634827, 0.08186843991279602, 0.09719960391521454, 0.08165336400270462, 0.09524477273225784, 0.08467984199523926, 0.09567924588918686, 0.08381134271621704, 0.09508411586284637, 0.08506820350885391, 0.09489616006612778, 0.08554837852716446, 0.09730713069438934, 0.08152622729539871, 0.09762837737798691, 0.08120940625667572, 0.09653463959693909, 0.08246278017759323, 0.09556514024734497, 0.0840051993727684, 0.09439024329185486, 0.08707340806722641, 0.0978522077202797, 0.08099250495433807, 0.09487344324588776, 0.08558038622140884, 0.09783808887004852, 0.08101941645145416, 0.09868663549423218, 0.08034014701843262, 0.09715785086154938, 0.08173245936632156, 0.0964234322309494, 0.0826522633433342, 0.0958307608962059, 0.08362334966659546, 0.09571477770805359, 0.0838298574090004, 0.09655137360095978, 0.08250438421964645, 0.09671824425458908, 0.08228877931833267, 0.09571347385644913, 0.08382059633731842, 0.09500877559185028, 0.08538233488798141, 0.0968962013721466, 0.08204402774572372, 0.09712763130664825, 0.081773541867733, 0.0952969416975975, 0.08465884625911713, 0.09589467942714691, 0.083495132625103, 0.09671609103679657, 0.08226513862609863, 0.09605275839567184, 0.0832187682390213, 0.09543045610189438, 0.08434592187404633, 0.0964636355638504, 0.08259566873311996, 0.09479603916406631, 0.08589771389961243, 0.09616796672344208, 0.08306734263896942, 0.09599733352661133, 0.083363838493824, 0.0961223840713501, 0.08316773176193237, 0.095055490732193, 0.085330069065094, 0.09722555428743362, 0.08169319480657578, 0.09559518098831177, 0.08410096168518066, 0.09568974375724792, 0.08393176645040512, 0.0972108244895935, 0.08172289282083511, 0.09580652415752411, 0.08370762318372726, 0.09555152803659439, 0.08418942242860794, 0.0956987738609314, 0.08388569205999374, 0.09532476961612701, 0.0846705213189125, 0.09664720296859741, 0.08238083124160767, 0.09634773433208466, 0.08279319852590561, 0.0969933271408081, 0.08193909376859665, 0.09642784297466278, 0.08266853541135788, 0.09621524810791016, 0.08297982066869736, 0.09591327607631683, 0.08347678929567337, 0.09615998715162277, 0.08306045830249786, 0.09907972812652588, 0.08007453382015228, 0.09626755863428116, 0.08290360122919083, 0.09647037833929062, 0.0826340913772583, 0.09541912376880646, 0.08447092771530151, 0.09740100800991058, 0.08151696622371674, 0.0977180153131485, 0.08120128512382507, 0.09645874798297882, 0.08269404619932175, 0.09653636813163757, 0.08256572484970093, 0.09767605364322662, 0.08123897016048431, 0.09574906527996063, 0.08384407311677933, 0.0980028361082077, 0.08092767745256424, 0.09674227237701416, 0.08228398114442825, 0.0949455201625824, 0.08571527898311615, 0.09803975373506546, 0.08090374618768692, 0.09616097062826157, 0.08313317596912384, 0.09578882157802582, 0.08373527973890305, 0.09597912430763245, 0.08341030031442642, 0.09700313210487366, 0.08195016533136368, 0.09706258773803711, 0.081888847053051, 0.09867670387029648, 0.08037599921226501, 0.09641405940055847, 0.08272632956504822, 0.09678718447685242, 0.08222142606973648, 0.09554852545261383, 0.08423005044460297, 0.09499223530292511, 0.08554204553365707, 0.09544306993484497, 0.08450870215892792, 0.09608352929353714, 0.08327838778495789, 0.09630876779556274, 0.08293164521455765, 0.09821745753288269, 0.08075140416622162, 0.09595420956611633, 0.08349976688623428, 0.09598083794116974, 0.08341697603464127, 0.09624012559652328, 0.08301369100809097, 0.09767363965511322, 0.08124134689569473, 0.09584583342075348, 0.08366354554891586, 0.0965680256485939, 0.08254068344831467, 0.09518039226531982, 0.08511929959058762, 0.09595343470573425, 0.08349715173244476, 0.09621164202690125, 0.08307090401649475, 0.09670498967170715, 0.08234091103076935, 0.0963597446680069, 0.08282589912414551, 0.09676238894462585, 0.08226310461759567, 0.09594356268644333, 0.08349459618330002, 0.09576454758644104, 0.08381791412830353, 0.0970672219991684, 0.08188346028327942, 0.09879172593355179, 0.08028876781463623, 0.09947984665632248, 0.07983586192131042, 0.09670615941286087, 0.08231008052825928, 0.09676314890384674, 0.08223644644021988, 0.09647022932767868, 0.08262122422456741, 0.09574481844902039, 0.08379511535167694, 0.09798657149076462, 0.08093135058879852, 0.09692695736885071, 0.0820305123925209, 0.09804348647594452, 0.08088233321905136, 0.09854958951473236, 0.08047463744878769, 0.0953233540058136, 0.08469144254922867, 0.09902689605951309, 0.08011236041784286, 0.0983414277434349, 0.08060939610004425, 0.09657122939825058, 0.08246637880802155, 0.09660138189792633, 0.0824231430888176, 0.09600313752889633, 0.08331935852766037, 0.09796466678380966, 0.08093183487653732, 0.09541185200214386, 0.08440355211496353, 0.0964476615190506, 0.08263339847326279, 0.09590937197208405, 0.08344386518001556, 0.09875667840242386, 0.0802922174334526, 0.09625224769115448, 0.08290205895900726, 0.0975629910826683, 0.08130060136318207, 0.09687771648168564, 0.08204971998929977, 0.09541289508342743, 0.08436018228530884, 0.09631471335887909, 0.08279301226139069, 0.09684513509273529, 0.08208554983139038, 0.09953778237104416, 0.07978255301713943, 0.09557163715362549, 0.08405189961194992, 0.09558343887329102, 0.0840177834033966, 0.09619936347007751, 0.08297483623027802, 0.09661192446947098, 0.0823776051402092, 0.09667979925870895, 0.08229845017194748, 0.09624404460191727, 0.08288639038801193, 0.09744257479906082, 0.0814107358455658, 0.09507866203784943, 0.08508666604757309, 0.09717437624931335, 0.08169413357973099, 0.09605757147073746, 0.08317207545042038, 0.09509862959384918, 0.08503057062625885, 0.09778574109077454, 0.0810680240392685, 0.09644661843776703, 0.0826154574751854, 0.09691527485847473, 0.08200640976428986, 0.09650159627199173, 0.08253493160009384, 0.09828474372625351, 0.08065727353096008, 0.09665091335773468, 0.08235529065132141, 0.09678466618061066, 0.08218708634376526, 0.09711119532585144, 0.08182167261838913, 0.09769351035356522, 0.0811963900923729, 0.09854863584041595, 0.08046852052211761, 0.09681364893913269, 0.08218370378017426, 0.09685517847537994, 0.08213065564632416, 0.0978875458240509, 0.08101381361484528, 0.09786583483219147, 0.08103442937135696, 0.09793666005134583, 0.0809638574719429, 0.09677984565496445, 0.08219751715660095, 0.09687539935112, 0.08208039402961731, 0.09552246332168579, 0.08420274406671524, 0.09600552916526794, 0.08331099152565002, 0.09621502459049225, 0.08296734094619751, 0.09666213393211365, 0.0823487639427185, 0.09675130248069763, 0.08222068101167679, 0.0971800833940506, 0.08172086626291275, 0.09719620645046234, 0.0816943570971489, 0.09620347619056702, 0.08298113197088242, 0.09635542333126068, 0.08275353908538818, 0.09683568775653839, 0.08209152519702911, 0.09794322401285172, 0.08093279600143433, 0.09831618517637253, 0.08061512559652328, 0.09853243082761765, 0.08044829964637756, 0.09861712157726288, 0.08038751035928726, 0.09775662422180176, 0.08109550178050995, 0.09719141572713852, 0.08167415857315063, 0.09566051512956619, 0.08386024087667465, 0.096841000020504, 0.08207420259714127, 0.09575840085744858, 0.08368027955293655, 0.09557247161865234, 0.0840030089020729, 0.097406767308712, 0.08142126351594925, 0.0987452045083046, 0.08028366416692734, 0.09924108535051346, 0.0799555554986, 0.09807908535003662, 0.08081595599651337, 0.09706456959247589, 0.08183485269546509, 0.09852021187543869, 0.08046518266201019, 0.09686242043972015, 0.0820733904838562, 0.096254363656044, 0.08290788531303406, 0.09551143646240234, 0.08420072495937347, 0.09574829041957855, 0.08373740315437317, 0.09631509333848953, 0.08284090459346771, 0.09690991789102554, 0.08203255385160446, 0.09632150083780289, 0.08283209800720215, 0.09573009610176086, 0.08378877490758896, 0.09649750590324402, 0.08256612718105316, 0.09692998975515366, 0.08199337869882584, 0.09578392654657364, 0.08366995304822922, 0.0976364016532898, 0.08123001456260681, 0.0972517728805542, 0.08162163197994232, 0.09626736491918564, 0.08287706971168518, 0.09446556866168976, 0.0870010182261467, 0.09438474476337433, 0.08732239902019501, 0.09523244202136993, 0.08482213318347931, 0.09428362548351288, 0.0877775251865387, 0.0965108796954155, 0.08253031969070435, 0.09612294286489487, 0.08310046792030334, 0.09829329699277878, 0.0806506797671318, 0.09553595632314682, 0.08414894342422485, 0.0962798222899437, 0.08286430686712265, 0.09562679380178452, 0.08396532386541367, 0.0968039482831955, 0.08215317875146866, 0.09694173187017441, 0.08197884261608124, 0.0977068543434143, 0.08115211874246597, 0.09623014181852341, 0.08290731906890869, 0.09820571541786194, 0.0806998535990715, 0.0946158692240715, 0.08643477410078049, 0.09578143060207367, 0.08366077393293381, 0.09625817090272903, 0.08289424329996109, 0.09663911163806915, 0.08236214518547058, 0.09532365947961807, 0.08456697314977646, 0.09569656848907471, 0.08384972810745239, 0.0971943810582161, 0.08169347792863846, 0.09767403453588486, 0.08118809759616852, 0.09570853412151337, 0.08378161489963531, 0.09842946380376816, 0.08053138107061386, 0.096034936606884, 0.08322773873806, 0.09557698667049408, 0.08406070619821548, 0.09610012918710709, 0.08313623070716858, 0.0961948111653328, 0.08298934996128082, 0.09621983766555786, 0.08293484896421432, 0.09893891215324402, 0.08014940470457077, 0.09584994614124298, 0.08350346237421036, 0.09635657072067261, 0.08271495997905731, 0.09603508561849594, 0.08318112790584564, 0.09656921029090881, 0.08241600543260574, 0.09645278751850128, 0.08258910477161407, 0.09686414152383804, 0.0820513367652893, 0.09631963819265366, 0.082789346575737, 0.09637248516082764, 0.08269243687391281, 0.09683934599161148, 0.08208121359348297, 0.09525898844003677, 0.08466720581054688, 0.0979052260518074, 0.08095870167016983, 0.09823980927467346, 0.0806698352098465, 0.09595593065023422, 0.0832981988787651, 0.09574225544929504, 0.08366021513938904, 0.09485775232315063, 0.0855364054441452, 0.09682421386241913, 0.08206965774297714, 0.09918491542339325, 0.07997836172580719, 0.09796964377164841, 0.08088885992765427, 0.09708896279335022, 0.08176112920045853, 0.0973278060555458, 0.08150935173034668, 0.09833074361085892, 0.08058877289295197, 0.09912552684545517, 0.08001893013715744, 0.09631966054439545, 0.08275780081748962, 0.09747616201639175, 0.0813605785369873, 0.09573296457529068, 0.08368957787752151, 0.09594165533781052, 0.08331187069416046, 0.09703711420297623, 0.08181608468294144, 0.09495781362056732, 0.08531244844198227, 0.09630980342626572, 0.08274099230766296, 0.09697124361991882, 0.08188087493181229, 0.09788784384727478, 0.08095113933086395, 0.09835681319236755, 0.08056394755840302, 0.09834557771682739, 0.08057387173175812, 0.09788589924573898, 0.08096619695425034, 0.09692523628473282, 0.08195061981678009, 0.096957728266716, 0.08191119134426117, 0.09726741164922714, 0.0815729945898056, 0.09592786431312561, 0.08335424214601517, 0.0966091901063919, 0.08235063403844833, 0.09784247726202011, 0.08100812882184982, 0.09698217362165451, 0.08189872652292252, 0.09609301388263702, 0.08309004455804825, 0.09551924467086792, 0.08409737795591354, 0.0969787985086441, 0.08190358430147171, 0.09566476941108704, 0.08381800353527069, 0.0963962972164154, 0.08264687657356262, 0.09572041779756546, 0.08372731506824493, 0.09701570868492126, 0.08186789602041245, 0.09600678831338882, 0.08326632529497147, 0.09520946443080902, 0.08478542417287827, 0.09620226919651031, 0.08295606076717377, 0.09589497745037079, 0.08345334976911545, 0.09595755487680435, 0.08334961533546448, 0.09603510797023773, 0.08321952819824219, 0.09642252326011658, 0.08265165984630585, 0.09668682515621185, 0.08229996263980865, 0.0971730500459671, 0.08170580863952637, 0.09752729535102844, 0.08133385330438614, 0.09710043668746948, 0.08179482817649841, 0.09585461765527725, 0.08352693170309067, 0.0969008207321167, 0.08200076967477798, 0.09709559381008148, 0.08177675306797028, 0.09571503847837448, 0.08373449742794037, 0.09668828547000885, 0.08226002752780914, 0.09660662710666656, 0.08237549662590027, 0.09560371935367584, 0.08394590765237808, 0.09807991981506348, 0.08080563694238663, 0.09628225862979889, 0.08281828463077545, 0.09667159616947174, 0.08227462321519852, 0.09667133539915085, 0.08225473016500473, 0.09617605805397034, 0.08293958753347397, 0.09564570337533951, 0.0838029682636261, 0.09589739143848419, 0.08338205516338348, 0.09667617827653885, 0.08224213123321533, 0.09618927538394928, 0.08291557431221008, 0.09499256312847137, 0.08527207374572754, 0.09630633145570755, 0.08277396857738495, 0.09786355495452881, 0.08099725097417831, 0.09447512030601501, 0.08682943135499954, 0.09703171253204346, 0.08183205127716064, 0.09517679363489151, 0.08476104587316513, 0.09702577441930771, 0.08182112872600555, 0.09709654748439789, 0.08174554258584976, 0.0975203737616539, 0.0813097283244133, 0.09771162271499634, 0.0811247006058693, 0.09937718510627747, 0.07986374199390411, 0.09696370363235474, 0.08191157877445221, 0.09714851528406143, 0.0817081555724144, 0.09624689072370529, 0.08286253362894058, 0.096601702272892, 0.08238134533166885, 0.09725600481033325, 0.08159980922937393, 0.09570899605751038, 0.08377604931592941, 0.0962662622332573, 0.082868792116642, 0.09795583039522171, 0.08092917501926422, 0.09964577853679657, 0.07971693575382233, 0.09627749770879745, 0.08282934129238129, 0.09722160547971725, 0.08163037896156311, 0.0981665551662445, 0.0807318314909935, 0.09606117010116577, 0.08315128833055496, 0.09458034485578537, 0.08643999695777893, 0.09580786526203156, 0.08359350264072418, 0.09725865721702576, 0.08160942047834396, 0.09650857001543045, 0.08251502364873886, 0.09658196568489075, 0.08241117745637894, 0.09666702896356583, 0.08229963481426239, 0.09662749618291855, 0.0823541209101677, 0.09500523656606674, 0.08526718616485596, 0.09575498104095459, 0.08364588022232056, 0.09731373190879822, 0.08153198659420013, 0.0970592051744461, 0.08181720227003098, 0.09538733214139938, 0.08442296832799911, 0.09668876230716705, 0.0822695791721344, 0.09548459202051163, 0.08416054397821426, 0.09575533121824265, 0.0836375430226326, 0.09617921710014343, 0.08294560015201569, 0.09630188345909119, 0.08275406807661057, 0.09668773412704468, 0.08223563432693481, 0.09607606381177902, 0.08310359716415405, 0.09697937220335007, 0.0819006860256195, 0.09833651781082153, 0.080590158700943, 0.09754638373851776, 0.08129166066646576, 0.0968005433678627, 0.08211583644151688, 0.0969395861029625, 0.08194153010845184, 0.09589351713657379, 0.08342234045267105, 0.09628352522850037, 0.08281563967466354, 0.09724629670381546, 0.08159884810447693, 0.09811070561408997, 0.08076772838830948, 0.09704269468784332, 0.08181378990411758, 0.09640941768884659, 0.08262036740779877, 0.09651865065097809, 0.08246463537216187, 0.09493862092494965, 0.08542294055223465, 0.09638016670942307, 0.08266756683588028, 0.09687462449073792, 0.08202998340129852, 0.09649287164211273, 0.08254261314868927, 0.09710729122161865, 0.08177804946899414, 0.09628821909427643, 0.0828036442399025, 0.09651989489793777, 0.08247636258602142, 0.0967193990945816, 0.08218177407979965, 0.0959654152393341, 0.08325503766536713, 0.09740006923675537, 0.08142758160829544, 0.09452676773071289, 0.08657491952180862, 0.09522932767868042, 0.08466130495071411, 0.09636294096708298, 0.08267062157392502, 0.09671391546726227, 0.08221498131752014, 0.09514487534761429, 0.08486957848072052, 0.09493730962276459, 0.08537974208593369, 0.09638222306966782, 0.08266361802816391, 0.0971783995628357, 0.08167774975299835, 0.09745991230010986, 0.0813826471567154, 0.09631291776895523, 0.08276554197072983, 0.09475840628147125, 0.08570297062397003, 0.09680777043104172, 0.0820389986038208, 0.0953148677945137, 0.08437986671924591, 0.09718833863735199, 0.08160147815942764, 0.09793679416179657, 0.08088512718677521, 0.0974331945180893, 0.08135757595300674, 0.09645462036132812, 0.08249785006046295, 0.09673028439283371, 0.08213809877634048, 0.09840171039104462, 0.08050953596830368, 0.09869897365570068, 0.08028245717287064, 0.09645949304103851, 0.08248287439346313, 0.09628535062074661, 0.082730732858181, 0.09608098119497299, 0.08304494619369507, 0.09552448242902756, 0.08400291204452515]\n"
     ]
    }
   ],
   "source": [
    "# Now we are going to include the evaluation process \n",
    "\n",
    "losses = []\n",
    "val_losses =[]\n",
    "train_step = make_train_step(model, loss_fn, optimizer)\n",
    "\n",
    "for epoch in range(n_epochs):\n",
    "    \n",
    "    for x_batch, y_batch in train_loader:\n",
    "        \n",
    "        x_batch = x_batch.to(device)\n",
    "        y_batch = y_batch.to(device)\n",
    "        \n",
    "        losses.append(train_step(x_batch, y_batch))\n",
    "        \n",
    "    with torch.no_grad():\n",
    "        for x_val, y_val in val_loader:\n",
    "            \n",
    "            x_val = x_val.to(device)\n",
    "            y_val = y_val.to(device)\n",
    "            \n",
    "            model.eval() # Set the model to evaluation mode\n",
    "            \n",
    "            yhat = model(x_val)\n",
    "            val_loss = loss_fn(y_val, yhat)\n",
    "            \n",
    "            val_losses.append(val_loss.item())\n",
    "            \n",
    "print(model.state_dict())    \n",
    "print(val_losses)"
   ]
  },
  {
   "cell_type": "code",
   "execution_count": 42,
   "metadata": {},
   "outputs": [
    {
     "name": "stdout",
     "output_type": "stream",
     "text": [
      "[0.09720437228679657, 0.0817413404583931, 0.09578168392181396, 0.08380592614412308, 0.09638525545597076, 0.08277467638254166, 0.09752064198255539, 0.08137867599725723, 0.1002296730875969, 0.07942860573530197, 0.09689612686634064, 0.08209078013896942, 0.09540413320064545, 0.08446203917264938, 0.09577560424804688, 0.0837317630648613, 0.0949385017156601, 0.0855427011847496, 0.09552493691444397, 0.08414643257856369, 0.09697741270065308, 0.08192579448223114, 0.09569606184959412, 0.08380906283855438, 0.09551605582237244, 0.08418770134449005, 0.09475111961364746, 0.08610300719738007, 0.09466777741909027, 0.08628270030021667, 0.09629089385271072, 0.08285421133041382, 0.09615474939346313, 0.083064503967762, 0.09716706722974777, 0.08173417299985886, 0.09705208241939545, 0.08186476677656174, 0.09635405242443085, 0.08276955038309097, 0.09536400437355042, 0.08450216054916382, 0.09724177420139313, 0.08163172751665115, 0.09591275453567505, 0.08345828950405121, 0.09736952930688858, 0.08149900287389755, 0.0969531238079071, 0.0819709450006485, 0.09742876887321472, 0.08144843578338623, 0.09672105312347412, 0.08227206021547318, 0.0963093638420105, 0.08284366875886917, 0.09622827172279358, 0.08296132832765579, 0.09547102451324463, 0.08428099751472473, 0.09452101588249207, 0.08671342581510544, 0.09632328152656555, 0.08277055621147156, 0.09748011082410812, 0.08136925101280212, 0.096490778028965, 0.08253639191389084, 0.09629301726818085, 0.08282211422920227, 0.09637366980314255, 0.08270473778247833, 0.09784817695617676, 0.08102204650640488, 0.09957045316696167, 0.07976529747247696, 0.098529152572155, 0.08045671135187149, 0.09871223568916321, 0.08032310754060745, 0.09469310939311981, 0.08614824712276459, 0.0959235280752182, 0.08338271826505661, 0.09870538860559464, 0.08031482249498367, 0.09731585532426834, 0.08154603093862534, 0.0956035852432251, 0.08400373160839081, 0.09714852273464203, 0.08173983544111252, 0.09485780447721481, 0.08565545827150345, 0.09555564075708389, 0.08411286771297455, 0.09621749073266983, 0.08295711129903793, 0.0958782434463501, 0.08351396024227142, 0.09568145871162415, 0.08385585993528366, 0.09679737687110901, 0.08219584077596664, 0.09567178785800934, 0.08392329514026642, 0.09591510891914368, 0.0835026204586029, 0.09604819118976593, 0.08329608291387558, 0.09603863954544067, 0.08331291377544403, 0.09539733827114105, 0.08453426510095596, 0.09571389853954315, 0.08386579900979996, 0.09784616529941559, 0.08105089515447617, 0.09765293449163437, 0.08123187720775604, 0.09908140450716019, 0.08007635921239853, 0.0967276394367218, 0.0822736918926239, 0.09715958684682846, 0.08174888044595718, 0.09663330018520355, 0.08238882571458817, 0.09626874327659607, 0.08291122317314148, 0.09759175777435303, 0.08129097521305084, 0.0987481027841568, 0.08030703663825989, 0.10083663463592529, 0.07914792746305466, 0.09702838957309723, 0.0819060355424881, 0.09644011408090591, 0.08267201483249664, 0.09718639403581619, 0.08173543959856033, 0.09504306316375732, 0.08537062257528305, 0.09476973861455917, 0.0861191377043724, 0.09676103293895721, 0.08222079277038574, 0.09694275259971619, 0.0820031389594078, 0.09485092759132385, 0.08582290261983871, 0.09679695218801498, 0.08218882977962494, 0.09827271848917007, 0.0806761384010315, 0.09575867652893066, 0.08374464511871338, 0.09902158379554749, 0.08011560887098312, 0.09894442558288574, 0.08016909658908844, 0.09759369492530823, 0.08128434419631958, 0.0976654514670372, 0.08121301233768463, 0.09533274918794632, 0.08457878232002258, 0.09538304805755615, 0.08449500799179077, 0.09724417328834534, 0.08164592832326889, 0.09766225516796112, 0.08122275769710541, 0.09541796892881393, 0.0844184160232544, 0.09639114886522293, 0.08272846043109894, 0.09537206590175629, 0.08451180905103683, 0.0962340459227562, 0.08294851332902908, 0.09667661786079407, 0.08233776688575745, 0.09888097643852234, 0.08022080361843109, 0.09979972243309021, 0.07965074479579926, 0.09744389355182648, 0.0814468115568161, 0.09632521867752075, 0.08283139020204544, 0.0966317281126976, 0.08241234719753265, 0.09636639803647995, 0.08278600871562958, 0.09518355876207352, 0.08500033617019653, 0.09546637535095215, 0.08437412232160568, 0.09606153517961502, 0.08328256756067276, 0.0971154049038887, 0.0818500891327858, 0.10057655721902847, 0.07927199453115463, 0.09752734750509262, 0.08138997107744217, 0.09703093767166138, 0.08193204551935196, 0.09725980460643768, 0.08166774362325668, 0.09668973833322525, 0.08235236257314682, 0.09716436266899109, 0.08176114410161972, 0.09625290334224701, 0.08294989168643951, 0.09581815451383591, 0.08368062973022461, 0.09640396386384964, 0.08273366838693619, 0.09674784541130066, 0.08227300643920898, 0.09758845716714859, 0.08130926638841629, 0.09586063772439957, 0.08359654247760773, 0.09559758007526398, 0.08407212048768997, 0.09657104313373566, 0.08247338235378265, 0.09726618230342865, 0.0816197469830513, 0.0989275723695755, 0.08018311858177185, 0.09645471721887589, 0.08261829614639282, 0.09486375749111176, 0.08576890081167221, 0.09630705416202545, 0.08282674849033356, 0.09684739261865616, 0.08210134506225586, 0.09623078256845474, 0.08293795585632324, 0.09680281579494476, 0.08216060698032379, 0.09715300798416138, 0.08173791319131851, 0.09699736535549164, 0.08192582428455353, 0.0963062196969986, 0.08285173028707504, 0.09619703143835068, 0.08299663662910461, 0.09604250639677048, 0.08324030041694641, 0.09809661656618118, 0.08082053065299988, 0.09568674862384796, 0.08386722952127457, 0.09598307311534882, 0.08334867656230927, 0.09698951989412308, 0.08194553852081299, 0.09734437614679337, 0.08153894543647766, 0.09836938977241516, 0.08059247583150864, 0.09679048508405685, 0.08217024803161621, 0.0967305600643158, 0.08224314451217651, 0.09480075538158417, 0.08590031415224075, 0.09598948806524277, 0.08330320566892624, 0.09698031097650528, 0.08194362372159958, 0.0962299257516861, 0.0829489454627037, 0.09679632633924484, 0.08216330409049988, 0.09582755714654922, 0.08360753953456879, 0.09624190628528595, 0.08290386945009232, 0.09622997045516968, 0.0829220786690712, 0.09666457772254944, 0.0823025330901146, 0.09468546509742737, 0.08613268285989761, 0.0969100147485733, 0.08199538290500641, 0.09548632800579071, 0.08419643342494965, 0.09624955803155899, 0.08288627862930298, 0.09655876457691193, 0.08246971666812897, 0.09685666114091873, 0.08207910507917404, 0.09710796177387238, 0.08177269995212555, 0.09550349414348602, 0.08416763693094254, 0.09613358974456787, 0.08306007087230682, 0.09704707562923431, 0.08182749897241592, 0.09612224996089935, 0.08306863903999329, 0.0983898863196373, 0.08055025339126587, 0.09830779582262039, 0.0806218609213829, 0.09667880088090897, 0.08228285610675812, 0.09666545689105988, 0.08231586962938309, 0.09615810960531235, 0.08300627768039703, 0.09523032605648041, 0.08474716544151306, 0.09626596421003342, 0.08288195729255676, 0.09852857887744904, 0.080462746322155, 0.09589973092079163, 0.08346717059612274, 0.09643387794494629, 0.08265499025583267, 0.09657984226942062, 0.08245678246021271, 0.0957873985171318, 0.08367897570133209, 0.09639228880405426, 0.08271230012178421, 0.09737996757030487, 0.08148755878210068, 0.09658807516098022, 0.08242391794919968, 0.09565469622612, 0.08390755206346512, 0.09595745801925659, 0.08337529748678207, 0.09635335952043533, 0.08274009823799133, 0.0983431488275528, 0.08060212433338165, 0.09750564396381378, 0.08136186748743057, 0.0957147479057312, 0.08378101885318756, 0.09816163033246994, 0.08075784891843796, 0.09683194756507874, 0.08211347460746765, 0.09542611241340637, 0.08434861153364182, 0.09519095718860626, 0.08489803969860077, 0.09545328468084335, 0.08430200070142746, 0.09556835889816284, 0.08410101383924484, 0.09658823162317276, 0.08245425671339035, 0.09663423895835876, 0.0823834165930748, 0.09569372236728668, 0.08386015892028809, 0.09742175042629242, 0.08144732564687729, 0.09808871150016785, 0.08081499487161636, 0.09670812636613846, 0.08226659148931503, 0.09585055708885193, 0.08354521542787552, 0.09672901779413223, 0.08223789185285568, 0.09646710008382797, 0.0825905129313469, 0.0946819856762886, 0.08625642955303192, 0.09506604820489883, 0.08514927327632904, 0.09813474863767624, 0.08076420426368713, 0.0996231734752655, 0.07972947508096695, 0.09548065811395645, 0.0841677114367485, 0.09658018499612808, 0.08238143473863602, 0.09666402637958527, 0.08228453248739243, 0.09676385670900345, 0.08215050399303436, 0.09857243299484253, 0.08040247112512589, 0.09649099409580231, 0.08251003175973892, 0.09809234738349915, 0.08078530430793762, 0.09492611885070801, 0.08544047176837921, 0.09514261037111282, 0.0849260687828064, 0.09704037010669708, 0.08183817565441132, 0.09570452570915222, 0.08377351611852646, 0.097230926156044, 0.08163513988256454, 0.09753122180700302, 0.0813225731253624, 0.09688440710306168, 0.08204425126314163, 0.09558246284723282, 0.08402837812900543, 0.095266193151474, 0.08470264077186584, 0.0976712554693222, 0.0811970978975296, 0.09705280512571335, 0.0818687453866005, 0.09743490815162659, 0.0814361721277237, 0.09508387744426727, 0.08512531965970993, 0.09636393189430237, 0.08275073021650314, 0.0957830622792244, 0.08367086946964264, 0.09674399346113205, 0.08222924172878265, 0.09550128877162933, 0.08420012146234512, 0.09669719636440277, 0.08230314403772354, 0.09501674771308899, 0.08532243967056274, 0.09809654206037521, 0.08081119507551193, 0.09904646873474121, 0.0800837054848671, 0.09486186504364014, 0.08568689972162247, 0.09783108532428741, 0.08103998005390167, 0.09896356612443924, 0.08015591651201248, 0.09593124687671661, 0.08342482894659042, 0.09647267311811447, 0.08258441835641861, 0.09780290722846985, 0.08107194304466248, 0.09762874245643616, 0.0812307670712471, 0.09629252552986145, 0.08284062892198563, 0.09705543518066406, 0.08184373378753662, 0.09457585960626602, 0.08664777874946594, 0.09543435275554657, 0.08435230702161789, 0.09596594423055649, 0.08339224755764008, 0.09621305763721466, 0.0829831212759018, 0.09735613316297531, 0.08153685182332993, 0.09694092720746994, 0.08199190348386765, 0.0970134362578392, 0.08189626038074493, 0.09690647572278976, 0.08202854543924332, 0.09644421935081482, 0.08262705057859421, 0.0973050594329834, 0.08156497031450272, 0.0956706553697586, 0.08386802673339844, 0.09658948332071304, 0.08243017643690109, 0.09828037023544312, 0.08065928518772125, 0.09650690853595734, 0.08254659175872803, 0.09588202834129333, 0.0835379883646965, 0.09771307557821274, 0.08118513971567154, 0.09585872292518616, 0.0835811123251915, 0.09657500684261322, 0.08246254920959473, 0.09608839452266693, 0.0831889733672142, 0.09518085420131683, 0.0849490836262703, 0.09539029747247696, 0.0844709500670433, 0.09686312824487686, 0.08207228034734726, 0.09682215750217438, 0.08212041109800339, 0.09756643325090408, 0.08128815144300461, 0.09645228832960129, 0.08258900046348572, 0.09678728133440018, 0.08215519785881042, 0.09613943099975586, 0.08305450528860092, 0.09632690995931625, 0.08279678970575333, 0.09516353160142899, 0.08496420085430145, 0.09683127701282501, 0.08212922513484955, 0.09526315331459045, 0.08464188873767853, 0.09573333710432053, 0.08371376246213913, 0.09790828078985214, 0.0809536948800087, 0.09809457510709763, 0.08078821003437042, 0.09702187031507492, 0.08185216784477234, 0.09672585129737854, 0.08220205456018448, 0.0968804880976677, 0.08200887590646744, 0.09573591500520706, 0.08367904275655746, 0.09557098150253296, 0.08401647955179214, 0.097633957862854, 0.0811975821852684, 0.09652765095233917, 0.08244690299034119, 0.09778282791376114, 0.08106140792369843, 0.09677475690841675, 0.0821421667933464, 0.09752894937992096, 0.08130583167076111, 0.096769779920578, 0.08215771615505219, 0.0955657809972763, 0.08403165638446808, 0.09624488651752472, 0.08288785815238953, 0.09665663540363312, 0.08231566846370697, 0.09454189240932465, 0.08663199096918106, 0.09627647697925568, 0.08283556997776031, 0.0948692262172699, 0.08565229177474976, 0.09768719971179962, 0.08116938173770905, 0.09687592089176178, 0.08203134685754776, 0.09670470654964447, 0.08224688470363617, 0.09610799700021744, 0.083059161901474, 0.09742796421051025, 0.08141408860683441, 0.09576578438282013, 0.0836508497595787, 0.09541711211204529, 0.08432368189096451, 0.09492772817611694, 0.0855005756020546, 0.0964868813753128, 0.08255266398191452, 0.09694191068410873, 0.08197031915187836, 0.09687668830156326, 0.08204872906208038, 0.09557724744081497, 0.08401533961296082, 0.09609678387641907, 0.08314274251461029, 0.09766557067632675, 0.08120470494031906, 0.09672890603542328, 0.08225039392709732, 0.09711761027574539, 0.08177979290485382, 0.09845796972513199, 0.08051446080207825, 0.09584533423185349, 0.08355450630187988, 0.09716563671827316, 0.08173152804374695, 0.09709687530994415, 0.0818190649151802, 0.09667226672172546, 0.08234301209449768, 0.09659592807292938, 0.08243974298238754, 0.09589221328496933, 0.08350913971662521, 0.09524045884609222, 0.08480534702539444, 0.09801654517650604, 0.08089040964841843, 0.0979248434305191, 0.0809745267033577, 0.09703093767166138, 0.08188561350107193, 0.09582255780696869, 0.08360651135444641, 0.09654781967401505, 0.0824936032295227, 0.09555128216743469, 0.08413805067539215, 0.09910475462675095, 0.08005671203136444, 0.0954730287194252, 0.08424915373325348, 0.0949450358748436, 0.08548905700445175, 0.09687654674053192, 0.0820612981915474, 0.09722575545310974, 0.08166567981243134, 0.09524592757225037, 0.08478596061468124, 0.09593146294355392, 0.08341816067695618, 0.09991060197353363, 0.07957883179187775, 0.09995056688785553, 0.07955819368362427, 0.09833920747041702, 0.08061985671520233, 0.09826182574033737, 0.08068482577800751, 0.09706541895866394, 0.08186488598585129, 0.09747353196144104, 0.08141441643238068, 0.09712585061788559, 0.08179537951946259, 0.096022829413414, 0.0833057090640068, 0.09577642381191254, 0.08375994116067886, 0.0977259948849678, 0.08118539303541183, 0.0985647514462471, 0.08046267181634903, 0.09703154116868973, 0.08192560076713562, 0.09545226395130157, 0.08444131910800934, 0.09714958816766739, 0.08179052174091339, 0.09664081782102585, 0.08242501318454742, 0.09531642496585846, 0.08469051122665405, 0.096033476293087, 0.0832970142364502, 0.09568813443183899, 0.08392370492219925, 0.09568627178668976, 0.08393190056085587, 0.09642211347818375, 0.08271666616201401, 0.0963999480009079, 0.08271922916173935, 0.09716156125068665, 0.0817592442035675, 0.09760849922895432, 0.0812862291932106, 0.09647786617279053, 0.08261337876319885, 0.09833648800849915, 0.08062445372343063, 0.09658098965883255, 0.082449771463871, 0.09650216996669769, 0.0825694277882576, 0.09567590057849884, 0.08388401567935944, 0.09510532766580582, 0.08509872108697891, 0.0969407707452774, 0.08199070394039154, 0.09760358929634094, 0.08128680288791656, 0.09748022258281708, 0.08141960948705673, 0.09687087684869766, 0.08207733929157257, 0.09667263925075531, 0.08232858777046204, 0.09614220261573792, 0.08309240639209747, 0.09719020128250122, 0.08169706910848618, 0.09537626802921295, 0.08444433659315109, 0.09847039729356766, 0.08050909638404846, 0.09784792363643646, 0.08101754635572433, 0.09520089626312256, 0.08480013161897659, 0.09620224684476852, 0.08296375721693039, 0.09570875763893127, 0.08378218859434128, 0.09729968756437302, 0.08156538754701614, 0.0951535627245903, 0.08489038795232773, 0.09730412065982819, 0.08154968917369843, 0.0980912446975708, 0.08080532401800156, 0.0955548882484436, 0.08407723903656006, 0.09639095515012741, 0.08268772065639496, 0.09715971350669861, 0.08171491324901581, 0.09626465290784836, 0.08286979794502258, 0.09671775251626968, 0.08225218206644058, 0.0966341495513916, 0.08236783742904663, 0.09596443176269531, 0.08333650976419449, 0.09682190418243408, 0.08210720121860504, 0.09544602781534195, 0.08427135646343231, 0.09582801163196564, 0.08356775343418121, 0.09680051356554031, 0.08213554322719574, 0.0970609188079834, 0.08182092010974884, 0.09607618302106857, 0.08313371241092682, 0.09904353320598602, 0.08008889108896255, 0.09818347543478012, 0.08072855323553085, 0.09734790027141571, 0.08151058107614517, 0.09720803797245026, 0.08167199790477753, 0.09786036610603333, 0.08101589977741241, 0.09787440299987793, 0.08101388067007065, 0.09631818532943726, 0.08282319456338882, 0.0977930799126625, 0.0810677781701088, 0.09571124613285065, 0.08376079797744751, 0.09584852308034897, 0.08353505283594131, 0.09588012099266052, 0.08347679674625397, 0.09761695563793182, 0.08124037832021713, 0.09654751420021057, 0.08247869461774826, 0.09598467499017715, 0.08334009349346161, 0.09844236075878143, 0.080532506108284, 0.09591519087553024, 0.08345538377761841, 0.09721612185239792, 0.08167679607868195, 0.09878268837928772, 0.08028002828359604, 0.09904827922582626, 0.080091193318367, 0.0970577672123909, 0.0818563774228096, 0.09662779420614243, 0.08239059895277023, 0.0974438488483429, 0.08144032210111618, 0.09602367132902145, 0.08328213542699814, 0.0964241772890091, 0.08269207924604416, 0.09853177517652512, 0.08046918362379074, 0.09589742869138718, 0.08349891006946564, 0.09598764032125473, 0.08331573754549026, 0.09478652477264404, 0.0859290212392807, 0.09526985883712769, 0.08464384824037552, 0.09816473722457886, 0.0807364284992218, 0.09570886194705963, 0.0837540403008461, 0.0954388827085495, 0.08426861464977264, 0.09655753523111343, 0.08242148905992508, 0.09783218801021576, 0.08102219551801682, 0.09645308554172516, 0.08257240802049637, 0.09707272797822952, 0.08178438246250153, 0.09609487652778625, 0.08307117223739624, 0.09618203341960907, 0.08293049782514572, 0.09788002073764801, 0.0809771791100502, 0.0960242971777916, 0.08319015800952911, 0.09722115844488144, 0.0816260427236557, 0.0972074344754219, 0.08163096010684967, 0.09664563834667206, 0.08230181783437729, 0.09663122892379761, 0.0823095515370369, 0.09623803198337555, 0.08284860849380493, 0.09511116147041321, 0.08499165624380112, 0.0961686223745346, 0.08299379795789719, 0.09716097265481949, 0.08169172704219818, 0.09623514115810394, 0.08286184072494507, 0.09712429344654083, 0.08172743022441864, 0.09704985469579697, 0.08181952685117722, 0.09738865494728088, 0.08145582675933838, 0.09694744646549225, 0.08195020258426666, 0.0984373390674591, 0.08052289485931396, 0.09653967618942261, 0.0824735164642334, 0.09722119569778442, 0.08163616806268692, 0.09719695895910263, 0.08164816349744797, 0.09809930622577667, 0.08077874034643173, 0.09653525054454803, 0.0824509859085083, 0.09545013308525085, 0.084229476749897, 0.09675899147987366, 0.08216889947652817, 0.09548301249742508, 0.08417506515979767, 0.094350166618824, 0.08724218606948853, 0.09563835710287094, 0.08383722603321075, 0.09530230611562729, 0.08451378345489502, 0.09571173787117004, 0.08371992409229279, 0.09654146432876587, 0.08245304226875305, 0.09621845185756683, 0.08291786909103394, 0.09712541103363037, 0.08174674212932587, 0.09622080624103546, 0.08292871713638306, 0.0965292751789093, 0.08249127864837646, 0.09739349782466888, 0.08146124333143234, 0.0979040190577507, 0.08096686750650406, 0.09661200642585754, 0.08236278593540192, 0.09722660481929779, 0.08161991834640503, 0.09743279218673706, 0.08140867203474045, 0.0958823710680008, 0.08345305919647217, 0.09940191358327866, 0.07985003292560577, 0.09733821451663971, 0.08149393647909164, 0.095709890127182, 0.08367566019296646, 0.09768916666507721, 0.08112947642803192, 0.09837335348129272, 0.0805487260222435, 0.09728030860424042, 0.08155322074890137, 0.09760028123855591, 0.08122318238019943, 0.09689545631408691, 0.08196699619293213, 0.09856931120157242, 0.08039682358503342, 0.09641247987747192, 0.0825958102941513, 0.09598354995250702, 0.08323810249567032, 0.09569824486970901, 0.08372218906879425, 0.09632635861635208, 0.08270689845085144, 0.09594710171222687, 0.0832979753613472, 0.09523112326860428, 0.08469186723232269, 0.09457118064165115, 0.08643551170825958, 0.09715631604194641, 0.08168761432170868, 0.09819118678569794, 0.08069772273302078, 0.09599906206130981, 0.08320717513561249, 0.09645988047122955, 0.0825350284576416, 0.09504211694002151, 0.08507445454597473, 0.09519997984170914, 0.08471285551786423, 0.09524533897638321, 0.08462490141391754, 0.09503808617591858, 0.08511713892221451, 0.09666549414396286, 0.08225543797016144, 0.09681500494480133, 0.08206728845834732, 0.09822534024715424, 0.08066830784082413, 0.09703530371189117, 0.08183038234710693, 0.0975312665104866, 0.08130355179309845, 0.09642474353313446, 0.08261183649301529, 0.09762220084667206, 0.08120794594287872, 0.09579011797904968, 0.08356944471597672, 0.09564322233200073, 0.08383091539144516, 0.09659644216299057, 0.08236496150493622, 0.09661931544542313, 0.08232606202363968, 0.09626856446266174, 0.08282817900180817, 0.0953151136636734, 0.08449724316596985, 0.0958951860666275, 0.08340799808502197, 0.09409526735544205, 0.08849033713340759, 0.0952000543475151, 0.08481691777706146, 0.09686176478862762, 0.0820586085319519, 0.09588920325040817, 0.08346106112003326, 0.09461167454719543, 0.08645832538604736, 0.09535378217697144, 0.08446886390447617, 0.09656781703233719, 0.08243817836046219, 0.09552019089460373, 0.08415084332227707, 0.09516500681638718, 0.08487281203269958, 0.09523232281208038, 0.08474264293909073, 0.09655608236789703, 0.082449771463871, 0.09742431342601776, 0.08143924921751022, 0.09709864854812622, 0.08177632093429565, 0.09570513665676117, 0.0837729349732399, 0.09594223648309708, 0.08337118476629257, 0.09913612902164459, 0.0800260454416275, 0.09677355736494064, 0.08216926455497742, 0.09602600336074829, 0.08324304968118668, 0.09509667009115219, 0.08508437871932983, 0.09616449475288391, 0.08299928903579712, 0.09633166342973709, 0.08275078237056732, 0.09471909701824188, 0.086028091609478, 0.09551958739757538, 0.08410939574241638, 0.09659595042467117, 0.08238992094993591, 0.09676401317119598, 0.08218134939670563, 0.09844432771205902, 0.08051864057779312, 0.09688163548707962, 0.08203599601984024, 0.09853355586528778, 0.08046134561300278, 0.09714949131011963, 0.0817679911851883, 0.09682396799325943, 0.082160584628582, 0.09671380370855331, 0.08231493830680847, 0.09752727299928665, 0.08137486129999161, 0.09762021154165268, 0.08127705007791519, 0.09770474582910538, 0.08119472861289978, 0.09653720259666443, 0.0825541615486145, 0.09521869570016861, 0.08491990715265274, 0.09618429094552994, 0.08308164030313492, 0.09690383076667786, 0.0820680782198906, 0.09538529813289642, 0.08447487652301788, 0.09486449509859085, 0.08577827364206314, 0.0952088013291359, 0.08488357812166214, 0.09467670321464539, 0.08619433641433716, 0.09640666097402573, 0.08266238868236542, 0.09663772583007812, 0.08235985785722733, 0.0964682549238205, 0.08255618065595627, 0.09595581889152527, 0.08334758877754211, 0.09565354138612747, 0.08386628329753876, 0.09531484544277191, 0.08456207066774368, 0.09593770653009415, 0.08338386565446854, 0.0974622443318367, 0.08139162510633469, 0.09738364815711975, 0.08146139234304428, 0.09775011241436005, 0.08109398931264877, 0.09679403901100159, 0.08213627338409424, 0.09692323207855225, 0.081977978348732, 0.09571367502212524, 0.08374502509832382, 0.09616497904062271, 0.08296412229537964, 0.09796090424060822, 0.08090764284133911, 0.09941497445106506, 0.0798422172665596, 0.09682391583919525, 0.08206350356340408, 0.09567858278751373, 0.08374729007482529, 0.09607987105846405, 0.08308777958154678, 0.09761781990528107, 0.08121787756681442, 0.09669340401887894, 0.08223415166139603, 0.0968388095498085, 0.08204606920480728, 0.09716788679361343, 0.0816650390625, 0.09948934614658356, 0.07979416102170944, 0.09610807150602341, 0.0830470621585846, 0.09627952426671982, 0.0827898234128952, 0.09716713428497314, 0.08167450875043869, 0.09721382707357407, 0.08163395524024963, 0.095932736992836, 0.0833352580666542, 0.09487665444612503, 0.08553468436002731, 0.09493456780910492, 0.08538062125444412, 0.09572167694568634, 0.0836656242609024, 0.0959073156118393, 0.08338713645935059, 0.09443441033363342, 0.08693677932024002, 0.09452306479215622, 0.08667096495628357, 0.09515571594238281, 0.08491286635398865, 0.09551870822906494, 0.08411963284015656, 0.09578469395637512, 0.08362629264593124, 0.09756915271282196, 0.08128470927476883, 0.09855972230434418, 0.08042864501476288, 0.09647102653980255, 0.08257538825273514, 0.09526379406452179, 0.08467283099889755, 0.09515328705310822, 0.08495547622442245, 0.09571200609207153, 0.08376709371805191, 0.09600400179624557, 0.08327817916870117, 0.09632376581430435, 0.08278849720954895, 0.09569436311721802, 0.0837845727801323, 0.09509743750095367, 0.08504141867160797, 0.09874559938907623, 0.08028454333543777, 0.09893116354942322, 0.08015727996826172, 0.09650961309671402, 0.08248340338468552, 0.09635026752948761, 0.08269848674535751, 0.09608335793018341, 0.08310005068778992, 0.09584594517946243, 0.08349208533763885, 0.09624476730823517, 0.08286860585212708, 0.09759613871574402, 0.08125372231006622, 0.0987856537103653, 0.08026892691850662, 0.09805892407894135, 0.08083124458789825, 0.09684409946203232, 0.0820762887597084, 0.09470655769109726, 0.08613517880439758, 0.09702926874160767, 0.08186526596546173, 0.09663436561822891, 0.08236677944660187, 0.09806573390960693, 0.08083377778530121, 0.09679991751909256, 0.0821329802274704, 0.096039779484272, 0.08320394158363342, 0.09765303879976273, 0.08119864016771317, 0.09624866396188736, 0.08288667351007462, 0.0983729287981987, 0.08056777715682983, 0.09630877524614334, 0.08277934044599533, 0.09568840265274048, 0.08378220349550247, 0.09568111598491669, 0.08379799127578735, 0.0978647917509079, 0.08099259436130524, 0.09573285281658173, 0.08371694386005402, 0.09669020771980286, 0.08226276189088821, 0.09574516117572784, 0.08369486033916473, 0.09779812395572662, 0.08105308562517166, 0.09432481974363327, 0.08735333383083344, 0.09700456261634827, 0.08186843991279602, 0.09719960391521454, 0.08165336400270462, 0.09524477273225784, 0.08467984199523926, 0.09567924588918686, 0.08381134271621704, 0.09508411586284637, 0.08506820350885391, 0.09489616006612778, 0.08554837852716446, 0.09730713069438934, 0.08152622729539871, 0.09762837737798691, 0.08120940625667572, 0.09653463959693909, 0.08246278017759323, 0.09556514024734497, 0.0840051993727684, 0.09439024329185486, 0.08707340806722641, 0.0978522077202797, 0.08099250495433807, 0.09487344324588776, 0.08558038622140884, 0.09783808887004852, 0.08101941645145416, 0.09868663549423218, 0.08034014701843262, 0.09715785086154938, 0.08173245936632156, 0.0964234322309494, 0.0826522633433342, 0.0958307608962059, 0.08362334966659546, 0.09571477770805359, 0.0838298574090004, 0.09655137360095978, 0.08250438421964645, 0.09671824425458908, 0.08228877931833267, 0.09571347385644913, 0.08382059633731842, 0.09500877559185028, 0.08538233488798141, 0.0968962013721466, 0.08204402774572372, 0.09712763130664825, 0.081773541867733, 0.0952969416975975, 0.08465884625911713, 0.09589467942714691, 0.083495132625103, 0.09671609103679657, 0.08226513862609863, 0.09605275839567184, 0.0832187682390213, 0.09543045610189438, 0.08434592187404633, 0.0964636355638504, 0.08259566873311996, 0.09479603916406631, 0.08589771389961243, 0.09616796672344208, 0.08306734263896942, 0.09599733352661133, 0.083363838493824, 0.0961223840713501, 0.08316773176193237, 0.095055490732193, 0.085330069065094, 0.09722555428743362, 0.08169319480657578, 0.09559518098831177, 0.08410096168518066, 0.09568974375724792, 0.08393176645040512, 0.0972108244895935, 0.08172289282083511, 0.09580652415752411, 0.08370762318372726, 0.09555152803659439, 0.08418942242860794, 0.0956987738609314, 0.08388569205999374, 0.09532476961612701, 0.0846705213189125, 0.09664720296859741, 0.08238083124160767, 0.09634773433208466, 0.08279319852590561, 0.0969933271408081, 0.08193909376859665, 0.09642784297466278, 0.08266853541135788, 0.09621524810791016, 0.08297982066869736, 0.09591327607631683, 0.08347678929567337, 0.09615998715162277, 0.08306045830249786, 0.09907972812652588, 0.08007453382015228, 0.09626755863428116, 0.08290360122919083, 0.09647037833929062, 0.0826340913772583, 0.09541912376880646, 0.08447092771530151, 0.09740100800991058, 0.08151696622371674, 0.0977180153131485, 0.08120128512382507, 0.09645874798297882, 0.08269404619932175, 0.09653636813163757, 0.08256572484970093, 0.09767605364322662, 0.08123897016048431, 0.09574906527996063, 0.08384407311677933, 0.0980028361082077, 0.08092767745256424, 0.09674227237701416, 0.08228398114442825, 0.0949455201625824, 0.08571527898311615, 0.09803975373506546, 0.08090374618768692, 0.09616097062826157, 0.08313317596912384, 0.09578882157802582, 0.08373527973890305, 0.09597912430763245, 0.08341030031442642, 0.09700313210487366, 0.08195016533136368, 0.09706258773803711, 0.081888847053051, 0.09867670387029648, 0.08037599921226501, 0.09641405940055847, 0.08272632956504822, 0.09678718447685242, 0.08222142606973648, 0.09554852545261383, 0.08423005044460297, 0.09499223530292511, 0.08554204553365707, 0.09544306993484497, 0.08450870215892792, 0.09608352929353714, 0.08327838778495789, 0.09630876779556274, 0.08293164521455765, 0.09821745753288269, 0.08075140416622162, 0.09595420956611633, 0.08349976688623428, 0.09598083794116974, 0.08341697603464127, 0.09624012559652328, 0.08301369100809097, 0.09767363965511322, 0.08124134689569473, 0.09584583342075348, 0.08366354554891586, 0.0965680256485939, 0.08254068344831467, 0.09518039226531982, 0.08511929959058762, 0.09595343470573425, 0.08349715173244476, 0.09621164202690125, 0.08307090401649475, 0.09670498967170715, 0.08234091103076935, 0.0963597446680069, 0.08282589912414551, 0.09676238894462585, 0.08226310461759567, 0.09594356268644333, 0.08349459618330002, 0.09576454758644104, 0.08381791412830353, 0.0970672219991684, 0.08188346028327942, 0.09879172593355179, 0.08028876781463623, 0.09947984665632248, 0.07983586192131042, 0.09670615941286087, 0.08231008052825928, 0.09676314890384674, 0.08223644644021988, 0.09647022932767868, 0.08262122422456741, 0.09574481844902039, 0.08379511535167694, 0.09798657149076462, 0.08093135058879852, 0.09692695736885071, 0.0820305123925209, 0.09804348647594452, 0.08088233321905136, 0.09854958951473236, 0.08047463744878769, 0.0953233540058136, 0.08469144254922867, 0.09902689605951309, 0.08011236041784286, 0.0983414277434349, 0.08060939610004425, 0.09657122939825058, 0.08246637880802155, 0.09660138189792633, 0.0824231430888176, 0.09600313752889633, 0.08331935852766037, 0.09796466678380966, 0.08093183487653732, 0.09541185200214386, 0.08440355211496353, 0.0964476615190506, 0.08263339847326279, 0.09590937197208405, 0.08344386518001556, 0.09875667840242386, 0.0802922174334526, 0.09625224769115448, 0.08290205895900726, 0.0975629910826683, 0.08130060136318207, 0.09687771648168564, 0.08204971998929977, 0.09541289508342743, 0.08436018228530884, 0.09631471335887909, 0.08279301226139069, 0.09684513509273529, 0.08208554983139038, 0.09953778237104416, 0.07978255301713943, 0.09557163715362549, 0.08405189961194992, 0.09558343887329102, 0.0840177834033966, 0.09619936347007751, 0.08297483623027802, 0.09661192446947098, 0.0823776051402092, 0.09667979925870895, 0.08229845017194748, 0.09624404460191727, 0.08288639038801193, 0.09744257479906082, 0.0814107358455658, 0.09507866203784943, 0.08508666604757309, 0.09717437624931335, 0.08169413357973099, 0.09605757147073746, 0.08317207545042038, 0.09509862959384918, 0.08503057062625885, 0.09778574109077454, 0.0810680240392685, 0.09644661843776703, 0.0826154574751854, 0.09691527485847473, 0.08200640976428986, 0.09650159627199173, 0.08253493160009384, 0.09828474372625351, 0.08065727353096008, 0.09665091335773468, 0.08235529065132141, 0.09678466618061066, 0.08218708634376526, 0.09711119532585144, 0.08182167261838913, 0.09769351035356522, 0.0811963900923729, 0.09854863584041595, 0.08046852052211761, 0.09681364893913269, 0.08218370378017426, 0.09685517847537994, 0.08213065564632416, 0.0978875458240509, 0.08101381361484528, 0.09786583483219147, 0.08103442937135696, 0.09793666005134583, 0.0809638574719429, 0.09677984565496445, 0.08219751715660095, 0.09687539935112, 0.08208039402961731, 0.09552246332168579, 0.08420274406671524, 0.09600552916526794, 0.08331099152565002, 0.09621502459049225, 0.08296734094619751, 0.09666213393211365, 0.0823487639427185, 0.09675130248069763, 0.08222068101167679, 0.0971800833940506, 0.08172086626291275, 0.09719620645046234, 0.0816943570971489, 0.09620347619056702, 0.08298113197088242, 0.09635542333126068, 0.08275353908538818, 0.09683568775653839, 0.08209152519702911, 0.09794322401285172, 0.08093279600143433, 0.09831618517637253, 0.08061512559652328, 0.09853243082761765, 0.08044829964637756, 0.09861712157726288, 0.08038751035928726, 0.09775662422180176, 0.08109550178050995, 0.09719141572713852, 0.08167415857315063, 0.09566051512956619, 0.08386024087667465, 0.096841000020504, 0.08207420259714127, 0.09575840085744858, 0.08368027955293655, 0.09557247161865234, 0.0840030089020729, 0.097406767308712, 0.08142126351594925, 0.0987452045083046, 0.08028366416692734, 0.09924108535051346, 0.0799555554986, 0.09807908535003662, 0.08081595599651337, 0.09706456959247589, 0.08183485269546509, 0.09852021187543869, 0.08046518266201019, 0.09686242043972015, 0.0820733904838562, 0.096254363656044, 0.08290788531303406, 0.09551143646240234, 0.08420072495937347, 0.09574829041957855, 0.08373740315437317, 0.09631509333848953, 0.08284090459346771, 0.09690991789102554, 0.08203255385160446, 0.09632150083780289, 0.08283209800720215, 0.09573009610176086, 0.08378877490758896, 0.09649750590324402, 0.08256612718105316, 0.09692998975515366, 0.08199337869882584, 0.09578392654657364, 0.08366995304822922, 0.0976364016532898, 0.08123001456260681, 0.0972517728805542, 0.08162163197994232, 0.09626736491918564, 0.08287706971168518, 0.09446556866168976, 0.0870010182261467, 0.09438474476337433, 0.08732239902019501, 0.09523244202136993, 0.08482213318347931, 0.09428362548351288, 0.0877775251865387, 0.0965108796954155, 0.08253031969070435, 0.09612294286489487, 0.08310046792030334, 0.09829329699277878, 0.0806506797671318, 0.09553595632314682, 0.08414894342422485, 0.0962798222899437, 0.08286430686712265, 0.09562679380178452, 0.08396532386541367, 0.0968039482831955, 0.08215317875146866, 0.09694173187017441, 0.08197884261608124, 0.0977068543434143, 0.08115211874246597, 0.09623014181852341, 0.08290731906890869, 0.09820571541786194, 0.0806998535990715, 0.0946158692240715, 0.08643477410078049, 0.09578143060207367, 0.08366077393293381, 0.09625817090272903, 0.08289424329996109, 0.09663911163806915, 0.08236214518547058, 0.09532365947961807, 0.08456697314977646, 0.09569656848907471, 0.08384972810745239, 0.0971943810582161, 0.08169347792863846, 0.09767403453588486, 0.08118809759616852, 0.09570853412151337, 0.08378161489963531, 0.09842946380376816, 0.08053138107061386, 0.096034936606884, 0.08322773873806, 0.09557698667049408, 0.08406070619821548, 0.09610012918710709, 0.08313623070716858, 0.0961948111653328, 0.08298934996128082, 0.09621983766555786, 0.08293484896421432, 0.09893891215324402, 0.08014940470457077, 0.09584994614124298, 0.08350346237421036, 0.09635657072067261, 0.08271495997905731, 0.09603508561849594, 0.08318112790584564, 0.09656921029090881, 0.08241600543260574, 0.09645278751850128, 0.08258910477161407, 0.09686414152383804, 0.0820513367652893, 0.09631963819265366, 0.082789346575737, 0.09637248516082764, 0.08269243687391281, 0.09683934599161148, 0.08208121359348297, 0.09525898844003677, 0.08466720581054688, 0.0979052260518074, 0.08095870167016983, 0.09823980927467346, 0.0806698352098465, 0.09595593065023422, 0.0832981988787651, 0.09574225544929504, 0.08366021513938904, 0.09485775232315063, 0.0855364054441452, 0.09682421386241913, 0.08206965774297714, 0.09918491542339325, 0.07997836172580719, 0.09796964377164841, 0.08088885992765427, 0.09708896279335022, 0.08176112920045853, 0.0973278060555458, 0.08150935173034668, 0.09833074361085892, 0.08058877289295197, 0.09912552684545517, 0.08001893013715744, 0.09631966054439545, 0.08275780081748962, 0.09747616201639175, 0.0813605785369873, 0.09573296457529068, 0.08368957787752151, 0.09594165533781052, 0.08331187069416046, 0.09703711420297623, 0.08181608468294144, 0.09495781362056732, 0.08531244844198227, 0.09630980342626572, 0.08274099230766296, 0.09697124361991882, 0.08188087493181229, 0.09788784384727478, 0.08095113933086395, 0.09835681319236755, 0.08056394755840302, 0.09834557771682739, 0.08057387173175812, 0.09788589924573898, 0.08096619695425034, 0.09692523628473282, 0.08195061981678009, 0.096957728266716, 0.08191119134426117, 0.09726741164922714, 0.0815729945898056, 0.09592786431312561, 0.08335424214601517, 0.0966091901063919, 0.08235063403844833, 0.09784247726202011, 0.08100812882184982, 0.09698217362165451, 0.08189872652292252, 0.09609301388263702, 0.08309004455804825, 0.09551924467086792, 0.08409737795591354, 0.0969787985086441, 0.08190358430147171, 0.09566476941108704, 0.08381800353527069, 0.0963962972164154, 0.08264687657356262, 0.09572041779756546, 0.08372731506824493, 0.09701570868492126, 0.08186789602041245, 0.09600678831338882, 0.08326632529497147, 0.09520946443080902, 0.08478542417287827, 0.09620226919651031, 0.08295606076717377, 0.09589497745037079, 0.08345334976911545, 0.09595755487680435, 0.08334961533546448, 0.09603510797023773, 0.08321952819824219, 0.09642252326011658, 0.08265165984630585, 0.09668682515621185, 0.08229996263980865, 0.0971730500459671, 0.08170580863952637, 0.09752729535102844, 0.08133385330438614, 0.09710043668746948, 0.08179482817649841, 0.09585461765527725, 0.08352693170309067, 0.0969008207321167, 0.08200076967477798, 0.09709559381008148, 0.08177675306797028, 0.09571503847837448, 0.08373449742794037, 0.09668828547000885, 0.08226002752780914, 0.09660662710666656, 0.08237549662590027, 0.09560371935367584, 0.08394590765237808, 0.09807991981506348, 0.08080563694238663, 0.09628225862979889, 0.08281828463077545, 0.09667159616947174, 0.08227462321519852, 0.09667133539915085, 0.08225473016500473, 0.09617605805397034, 0.08293958753347397, 0.09564570337533951, 0.0838029682636261, 0.09589739143848419, 0.08338205516338348, 0.09667617827653885, 0.08224213123321533, 0.09618927538394928, 0.08291557431221008, 0.09499256312847137, 0.08527207374572754, 0.09630633145570755, 0.08277396857738495, 0.09786355495452881, 0.08099725097417831, 0.09447512030601501, 0.08682943135499954, 0.09703171253204346, 0.08183205127716064, 0.09517679363489151, 0.08476104587316513, 0.09702577441930771, 0.08182112872600555, 0.09709654748439789, 0.08174554258584976, 0.0975203737616539, 0.0813097283244133, 0.09771162271499634, 0.0811247006058693, 0.09937718510627747, 0.07986374199390411, 0.09696370363235474, 0.08191157877445221, 0.09714851528406143, 0.0817081555724144, 0.09624689072370529, 0.08286253362894058, 0.096601702272892, 0.08238134533166885, 0.09725600481033325, 0.08159980922937393, 0.09570899605751038, 0.08377604931592941, 0.0962662622332573, 0.082868792116642, 0.09795583039522171, 0.08092917501926422, 0.09964577853679657, 0.07971693575382233, 0.09627749770879745, 0.08282934129238129, 0.09722160547971725, 0.08163037896156311, 0.0981665551662445, 0.0807318314909935, 0.09606117010116577, 0.08315128833055496, 0.09458034485578537, 0.08643999695777893, 0.09580786526203156, 0.08359350264072418, 0.09725865721702576, 0.08160942047834396, 0.09650857001543045, 0.08251502364873886, 0.09658196568489075, 0.08241117745637894, 0.09666702896356583, 0.08229963481426239, 0.09662749618291855, 0.0823541209101677, 0.09500523656606674, 0.08526718616485596, 0.09575498104095459, 0.08364588022232056, 0.09731373190879822, 0.08153198659420013, 0.0970592051744461, 0.08181720227003098, 0.09538733214139938, 0.08442296832799911, 0.09668876230716705, 0.0822695791721344, 0.09548459202051163, 0.08416054397821426, 0.09575533121824265, 0.0836375430226326, 0.09617921710014343, 0.08294560015201569, 0.09630188345909119, 0.08275406807661057, 0.09668773412704468, 0.08223563432693481, 0.09607606381177902, 0.08310359716415405, 0.09697937220335007, 0.0819006860256195, 0.09833651781082153, 0.080590158700943, 0.09754638373851776, 0.08129166066646576, 0.0968005433678627, 0.08211583644151688, 0.0969395861029625, 0.08194153010845184, 0.09589351713657379, 0.08342234045267105, 0.09628352522850037, 0.08281563967466354, 0.09724629670381546, 0.08159884810447693, 0.09811070561408997, 0.08076772838830948, 0.09704269468784332, 0.08181378990411758, 0.09640941768884659, 0.08262036740779877, 0.09651865065097809, 0.08246463537216187, 0.09493862092494965, 0.08542294055223465, 0.09638016670942307, 0.08266756683588028, 0.09687462449073792, 0.08202998340129852, 0.09649287164211273, 0.08254261314868927, 0.09710729122161865, 0.08177804946899414, 0.09628821909427643, 0.0828036442399025, 0.09651989489793777, 0.08247636258602142, 0.0967193990945816, 0.08218177407979965, 0.0959654152393341, 0.08325503766536713, 0.09740006923675537, 0.08142758160829544, 0.09452676773071289, 0.08657491952180862, 0.09522932767868042, 0.08466130495071411, 0.09636294096708298, 0.08267062157392502, 0.09671391546726227, 0.08221498131752014, 0.09514487534761429, 0.08486957848072052, 0.09493730962276459, 0.08537974208593369, 0.09638222306966782, 0.08266361802816391, 0.0971783995628357, 0.08167774975299835, 0.09745991230010986, 0.0813826471567154, 0.09631291776895523, 0.08276554197072983, 0.09475840628147125, 0.08570297062397003, 0.09680777043104172, 0.0820389986038208, 0.0953148677945137, 0.08437986671924591, 0.09718833863735199, 0.08160147815942764, 0.09793679416179657, 0.08088512718677521, 0.0974331945180893, 0.08135757595300674, 0.09645462036132812, 0.08249785006046295, 0.09673028439283371, 0.08213809877634048, 0.09840171039104462, 0.08050953596830368, 0.09869897365570068, 0.08028245717287064, 0.09645949304103851, 0.08248287439346313, 0.09628535062074661, 0.082730732858181, 0.09608098119497299, 0.08304494619369507, 0.09552448242902756, 0.08400291204452515]"
     ]
    },
    {
     "name": "stdout",
     "output_type": "stream",
     "text": [
      "\n"
     ]
    }
   ],
   "source": [
    "print(val_losses)"
   ]
  },
  {
   "cell_type": "code",
   "execution_count": null,
   "metadata": {},
   "outputs": [],
   "source": []
  }
 ],
 "metadata": {
  "kernelspec": {
   "display_name": "Python 3",
   "language": "python",
   "name": "python3"
  },
  "language_info": {
   "codemirror_mode": {
    "name": "ipython",
    "version": 3
   },
   "file_extension": ".py",
   "mimetype": "text/x-python",
   "name": "python",
   "nbconvert_exporter": "python",
   "pygments_lexer": "ipython3",
   "version": "3.7.4"
  }
 },
 "nbformat": 4,
 "nbformat_minor": 2
}

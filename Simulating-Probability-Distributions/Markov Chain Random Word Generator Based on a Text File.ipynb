{
 "cells": [
  {
   "cell_type": "code",
   "execution_count": 23,
   "metadata": {},
   "outputs": [],
   "source": [
    "# Description: We are going to create Markov Chain (a directed graph with vtcs and edges)\n",
    "# The vtcs of this Markov Chain will be words that appear in the text and edges the represent the probability\n",
    "# that the endvtx of the edge comes right after the startvtx\n",
    "\n",
    "# My idea: We can use a dictionary to see what words follow the what words \n",
    "\n",
    "# Import Libaries \n",
    "import pandas as pd\n",
    "import numpy as np\n",
    "import matplotlib.pyplot as plt\n",
    "import random"
   ]
  },
  {
   "cell_type": "code",
   "execution_count": 2,
   "metadata": {},
   "outputs": [],
   "source": [
    "# List{String} --> Dict(Key: String, Value: Dict(Key: String, Value: Number))  \n",
    "# We are going to count how many times does a specific word follow a different word\n",
    "\n",
    "def _count_data(words):\n",
    "    if words == []: return {}\n",
    "    data = {}\n",
    "    i = 0\n",
    "    while i < len(words)-1:\n",
    "        curr, nxt = words[i], words[i+1]\n",
    "        if curr not in data: # We create a dictionary for each word\n",
    "            data[curr] = {}\n",
    "        \n",
    "        if nxt in data[curr]:\n",
    "            data[curr][nxt] += 1\n",
    "        else:\n",
    "            data[curr][nxt] = 1\n",
    "        \n",
    "        i += 1\n",
    "    \n",
    "    if words[-1] not in data:\n",
    "        data[words[-1]] = {}\n",
    "    return data\n",
    "        \n",
    "       \n",
    "        "
   ]
  },
  {
   "cell_type": "code",
   "execution_count": 3,
   "metadata": {},
   "outputs": [],
   "source": [
    "# Test on the function above\n",
    "test_1, correct_1 = [], {}\n",
    "test_2, correct_2 = [\"a\", \"b\", \"a\"], {\"a\":{\"b\": 1}, \"b\": {\"a\": 1}}\n",
    "test_3, correct_3 = [\"a\", \"b\", \"a\",\"a\", \"c\", \"c\", \"b\", \"a\"], {\"a\":{\"b\": 1, \"a\": 1, \"c\": 1}, \"b\": {\"a\": 2}, \"c\":{\"c\": 1, \"b\": 1}}"
   ]
  },
  {
   "cell_type": "code",
   "execution_count": 4,
   "metadata": {},
   "outputs": [
    {
     "name": "stdout",
     "output_type": "stream",
     "text": [
      "True\n",
      "True\n",
      "True\n",
      "{'a': {'b': 1, 'a': 1, 'c': 1}, 'b': {'a': 2}, 'c': {'c': 1, 'b': 1}} {'a': {'b': 1, 'a': 1, 'c': 1}, 'b': {'a': 2}, 'c': {'c': 1, 'b': 1}}\n"
     ]
    }
   ],
   "source": [
    "print(_count_data(test_1) == correct_1)\n",
    "print(_count_data(test_2) == correct_2)\n",
    "print(_count_data(test_3) == correct_3)\n",
    "print(_count_data(test_3), correct_3)"
   ]
  },
  {
   "cell_type": "code",
   "execution_count": 5,
   "metadata": {},
   "outputs": [],
   "source": [
    "# Now, given that we have our frequencies we want to generate a sentence that is N long using the data dict above\n",
    "# This sentence is going a very specific structure \n",
    "\n",
    "def gen_next_word(word_data):\n",
    "    if word_data == {}: return -1\n",
    "    freq = []\n",
    "    for key in list(word_data.keys()):\n",
    "        freq = freq + [key]*word_data[key]\n",
    "    return random.choice(freq)\n"
   ]
  },
  {
   "cell_type": "code",
   "execution_count": 6,
   "metadata": {},
   "outputs": [
    {
     "name": "stdout",
     "output_type": "stream",
     "text": [
      "b\n"
     ]
    }
   ],
   "source": [
    "#Tests\n",
    "print(gen_next_word(correct_3[\"a\"]))"
   ]
  },
  {
   "cell_type": "code",
   "execution_count": 7,
   "metadata": {},
   "outputs": [
    {
     "data": {
      "text/plain": [
       "'b a a b a c c b a a b'"
      ]
     },
     "execution_count": 7,
     "metadata": {},
     "output_type": "execute_result"
    }
   ],
   "source": [
    "# Generate a sentence N strings long\n",
    "N = 10\n",
    "\n",
    "def gen_sentence(n, data):\n",
    "    words = list(data.keys()) # list of all the words we have seen\n",
    "    choice = random.choice(words) # random intial choice\n",
    "    sentence, i = [choice], 0\n",
    "    while i < n:\n",
    "        next_choice = gen_next_word(data[choice])\n",
    "        if next_choice == -1 : return print(\"Encountered a leaf\")\n",
    "        else:\n",
    "            sentence.append(next_choice)\n",
    "            choice = next_choice\n",
    "            i += 1\n",
    "    return \" \".join(sentence)\n",
    "    \n",
    "# Let's try it out\n",
    "gen_sentence(10, _count_data(test_3))"
   ]
  },
  {
   "cell_type": "code",
   "execution_count": 8,
   "metadata": {},
   "outputs": [],
   "source": [
    "# We are going to prepare the data (test data) Kafka Metamorphosis\n",
    "f = open(\"kafka_meta.txt\", \"r\", encoding='utf-8')\n",
    "text = f.read()\n",
    "f.close()"
   ]
  },
  {
   "cell_type": "code",
   "execution_count": 14,
   "metadata": {},
   "outputs": [],
   "source": [
    "# We need to clean the text, remove punctuation and \\n symbols\n",
    "import re\n",
    "text_clean = re.sub(r' [^\\w\\s]',\" \", text)\n",
    "text_clean_1 = re.sub(r'\\n',\" \", text_clean)\n",
    "text_clean_2 = re.sub(r'[,.;:\"?!-]', \"\", text_clean_1)\n",
    "kafka_words = text_clean_2.lower().split()\n"
   ]
  },
  {
   "cell_type": "code",
   "execution_count": 12,
   "metadata": {},
   "outputs": [
    {
     "data": {
      "text/plain": [
       "'necessary to get back into the train as if he would often kept quiet street but would have been sleeping on had even slightly unwell an animal is your employer as if relieved back towards the chance gregor so in the evening but once yet been working—the first day a hurry she said this his father’s hand and the contrary as he looked out to rearrange his piercing its darkest corner gregor that when she had taken hold back comfortably on pushing a big for something more she did not stand all the evening she even though she was opened and'"
      ]
     },
     "execution_count": 12,
     "metadata": {},
     "output_type": "execute_result"
    }
   ],
   "source": [
    "# Let's test it out\n",
    "gen_sentence(100, _count_data(kafka_words))"
   ]
  },
  {
   "cell_type": "code",
   "execution_count": 15,
   "metadata": {},
   "outputs": [],
   "source": [
    "# We are going to going to combine some texts together\n",
    "cer = open(\"Cervantes_Don_Quixote_Text_File.txt\", \"r\", encoding='utf-8')\n",
    "don = cer.read()\n",
    "cer.close()"
   ]
  },
  {
   "cell_type": "code",
   "execution_count": 16,
   "metadata": {},
   "outputs": [],
   "source": [
    "don_clean = re.sub(r' [^\\w\\s]',\" \", don)\n",
    "don_1 = re.sub(r'\\n',\" \", don_clean)\n",
    "don_2 = re.sub(r'[,.;:\"?!-]', \"\", don_1)\n",
    "don_words = don_2.lower().split()"
   ]
  },
  {
   "cell_type": "code",
   "execution_count": 17,
   "metadata": {},
   "outputs": [],
   "source": [
    "kafka_don_mix = kafka_words + don_words"
   ]
  },
  {
   "cell_type": "code",
   "execution_count": null,
   "metadata": {},
   "outputs": [],
   "source": [
    "gen_sentence(100, _count_data(ka))"
   ]
  }
 ],
 "metadata": {
  "kernelspec": {
   "display_name": "Python 3",
   "language": "python",
   "name": "python3"
  },
  "language_info": {
   "codemirror_mode": {
    "name": "ipython",
    "version": 3
   },
   "file_extension": ".py",
   "mimetype": "text/x-python",
   "name": "python",
   "nbconvert_exporter": "python",
   "pygments_lexer": "ipython3",
   "version": "3.7.4"
  }
 },
 "nbformat": 4,
 "nbformat_minor": 5
}
